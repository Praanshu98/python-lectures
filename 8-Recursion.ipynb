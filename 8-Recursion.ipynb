{
 "cells": [
  {
   "cell_type": "markdown",
   "metadata": {},
   "source": [
    "### Factorial"
   ]
  },
  {
   "cell_type": "code",
   "execution_count": 7,
   "metadata": {},
   "outputs": [
    {
     "data": {
      "text/plain": [
       "120"
      ]
     },
     "execution_count": 7,
     "metadata": {},
     "output_type": "execute_result"
    }
   ],
   "source": [
    "# factorial\n",
    "def factorial(n):\n",
    "    if n == 1:\n",
    "        return 1\n",
    "    else:\n",
    "        return n * factorial(n-1)\n",
    "\n",
    "factorial(5)"
   ]
  },
  {
   "cell_type": "markdown",
   "metadata": {},
   "source": [
    "### Exponent"
   ]
  },
  {
   "cell_type": "code",
   "execution_count": 13,
   "metadata": {},
   "outputs": [
    {
     "name": "stdout",
     "output_type": "stream",
     "text": [
      "32\n",
      "1000\n"
     ]
    }
   ],
   "source": [
    "\n",
    "# pow(a, b) = a ** b\n",
    "# pow(2, 5) = 1* 2 * 2 * 2 * 2 * 2\n",
    "\n",
    "def pow_loop(a, b):\n",
    "    result = 1\n",
    "    for i in range(b):\n",
    "        result *= a\n",
    "    return result\n",
    "\n",
    "print(pow_loop(2, 5))\n",
    "\n",
    "# pow(2, 5) = 2 * pow(2, 4)\n",
    "\n",
    "def pow_rec(a, b):\n",
    "    if b == 1:\n",
    "        return a\n",
    "    return a * pow(a, b-1)\n",
    "\n",
    "print(pow_rec(10, 3))"
   ]
  },
  {
   "cell_type": "markdown",
   "metadata": {},
   "source": [
    "### Pattern Printing"
   ]
  },
  {
   "cell_type": "code",
   "execution_count": 22,
   "metadata": {},
   "outputs": [
    {
     "name": "stdout",
     "output_type": "stream",
     "text": [
      "5\n",
      "4\n",
      "3\n",
      "2\n",
      "1\n"
     ]
    }
   ],
   "source": [
    "def print_dec(n):\n",
    "    if n == 0:\n",
    "        return\n",
    "    print(n)\n",
    "    print_dec(n-1)\n",
    "\n",
    "print_dec(5)"
   ]
  },
  {
   "cell_type": "code",
   "execution_count": 23,
   "metadata": {},
   "outputs": [
    {
     "name": "stdout",
     "output_type": "stream",
     "text": [
      "5\n",
      "6\n",
      "5\n",
      "4\n",
      "3\n",
      "2\n",
      "1\n"
     ]
    }
   ],
   "source": [
    "# input as 5\n",
    "# 1\n",
    "# 2\n",
    "# 3\n",
    "# 4\n",
    "# 5\n",
    "\n",
    "def print_inc(n):\n",
    "    if n == 0:\n",
    "        return\n",
    "    print_inc(n-1)\n",
    "    print(n)\n",
    "\n",
    "print_inc(5)"
   ]
  },
  {
   "cell_type": "code",
   "execution_count": 26,
   "metadata": {},
   "outputs": [
    {
     "name": "stdout",
     "output_type": "stream",
     "text": [
      "5\n",
      "4\n",
      "3\n",
      "2\n",
      "1\n",
      "1\n",
      "2\n",
      "3\n",
      "4\n",
      "5\n",
      "None\n"
     ]
    }
   ],
   "source": [
    "N = 5\n",
    "5\n",
    "4\n",
    "3\n",
    "2\n",
    "1\n",
    "1\n",
    "2\n",
    "3\n",
    "4\n",
    "5\n",
    "\n",
    "def print_dec_inc(n):\n",
    "    if n == 0:\n",
    "        return\n",
    "    print(n)\n",
    "    print_dec_inc(n-1)\n",
    "    print(n)\n",
    "\n",
    "print_dec_inc(5)"
   ]
  },
  {
   "cell_type": "markdown",
   "metadata": {},
   "source": [
    "### HCF"
   ]
  },
  {
   "cell_type": "code",
   "execution_count": 32,
   "metadata": {},
   "outputs": [
    {
     "name": "stdout",
     "output_type": "stream",
     "text": [
      "1\n",
      "1\n"
     ]
    }
   ],
   "source": [
    "# Eucliud's HCF Theorem \n",
    "def hcf(a, b):\n",
    "    while a !=0 and b != 0:\n",
    "        if a > b:\n",
    "            a = a - b\n",
    "        else:\n",
    "            b = b - a\n",
    "    return (a + b)\n",
    "\n",
    "def hcf_rec(a, b):\n",
    "    if a==0 or b==0:\n",
    "        return a+b\n",
    "    if a > b:\n",
    "        return hcf_rec(a-b, b)\n",
    "    else:\n",
    "        return hcf_rec(b-a, a)\n",
    "\n",
    "print(hcf(12, 13))\n",
    "print(hcf_rec(12, 13))"
   ]
  },
  {
   "cell_type": "markdown",
   "metadata": {},
   "source": [
    "### Printing Fibonacci Number"
   ]
  },
  {
   "cell_type": "code",
   "execution_count": 39,
   "metadata": {},
   "outputs": [
    {
     "name": "stdout",
     "output_type": "stream",
     "text": [
      "1548008755920\n"
     ]
    }
   ],
   "source": [
    "# 0 1 1 2 3 5 8 13 21 ....\n",
    "# 0 1 2 3 4 5 6 7  8  ....\n",
    "# Nth fibo number = f(N)\n",
    "\n",
    "def fibo(n):\n",
    "    a = 0\n",
    "    b = 1\n",
    "    for x in range(n-1):\n",
    "        c = a + b\n",
    "        a = b\n",
    "        b = c\n",
    "    return c\n",
    "\n",
    "print(fibo(60))"
   ]
  },
  {
   "cell_type": "code",
   "execution_count": 48,
   "metadata": {},
   "outputs": [
    {
     "name": "stdout",
     "output_type": "stream",
     "text": [
      "43466557686937456435688527675040625802564660517371780402481729089536555417949051890403879840079255169295922593080322634775209689623239873322471161642996440906533187938298969649928516003704476137795166849228875\n"
     ]
    }
   ],
   "source": [
    "# f(6) = f(5) + f(4)\n",
    "# f(n) = f(n-1) + f(n-2)\n",
    "\n",
    "# Memoisation\n",
    "memory = [None]*2000\n",
    "\n",
    "def fibo_rec(n):\n",
    "    if memory[n] is not None:\n",
    "        return memory[n]\n",
    "    if n == 0 or n == 1:\n",
    "        return n\n",
    "    result = fibo_rec(n-1) + fibo_rec(n-2)\n",
    "    memory[n] = result\n",
    "    return result\n",
    "\n",
    "print(fibo_rec(1000))"
   ]
  },
  {
   "cell_type": "code",
   "execution_count": null,
   "metadata": {},
   "outputs": [],
   "source": [
    "# is_palindrome\n",
    "# binary search\n",
    "# is_sorted\n",
    "\n",
    "# homework"
   ]
  },
  {
   "cell_type": "code",
   "execution_count": 6,
   "metadata": {},
   "outputs": [
    {
     "name": "stdout",
     "output_type": "stream",
     "text": [
      "True\n"
     ]
    }
   ],
   "source": [
    "# to check whether a particular string is palindrome or not\n",
    "#if str_a == reverse(str_a) --> it is a palindrome, LEVEL\n",
    "\n",
    "def is_palindrome(s):\n",
    "    n = len(s)\n",
    "    if n <= 1:\n",
    "        return True\n",
    "    return (is_palindrome(s[1:n-1]) and (s[0] == s[n-1]))\n",
    "\n",
    "print(is_palindrome(\"level\"))"
   ]
  },
  {
   "cell_type": "code",
   "execution_count": null,
   "metadata": {},
   "outputs": [],
   "source": []
  }
 ],
 "metadata": {
  "kernelspec": {
   "display_name": "Python 3",
   "language": "python",
   "name": "python3"
  },
  "language_info": {
   "codemirror_mode": {
    "name": "ipython",
    "version": 3
   },
   "file_extension": ".py",
   "mimetype": "text/x-python",
   "name": "python",
   "nbconvert_exporter": "python",
   "pygments_lexer": "ipython3",
   "version": "3.7.2"
  }
 },
 "nbformat": 4,
 "nbformat_minor": 2
}
