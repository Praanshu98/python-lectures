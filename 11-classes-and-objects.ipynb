{
  "nbformat": 4,
  "nbformat_minor": 0,
  "metadata": {
    "colab": {
      "name": "11-classes-and-objects.ipynb",
      "provenance": [],
      "collapsed_sections": []
    },
    "kernelspec": {
      "name": "python3",
      "display_name": "Python 3"
    }
  },
  "cells": [
    {
      "cell_type": "code",
      "metadata": {
        "id": "jjTAvny9veRi",
        "colab_type": "code",
        "colab": {}
      },
      "source": [
        "# # Object Oriented Programming\n",
        "\n",
        "# student\n",
        "# {\n",
        "#     name -- attribute \n",
        "#     roll number -- attribute\n",
        "#     learns_coding -- function / behavior / \"method\"\n",
        "# }"
      ],
      "execution_count": 0,
      "outputs": []
    },
    {
      "cell_type": "code",
      "metadata": {
        "id": "6rHTf57C5AJt",
        "colab_type": "code",
        "outputId": "f4a635bc-c242-479e-8e97-d504e003374a",
        "colab": {
          "base_uri": "https://localhost:8080/",
          "height": 67
        }
      },
      "source": [
        "class Student:\n",
        "  pass # empty class\n",
        "\n",
        "s1 = Student() # object of class Student referenced with name s1\n",
        "s2 = Student()\n",
        "\n",
        "print(Student)\n",
        "print(s1)\n",
        "print(s2)"
      ],
      "execution_count": 0,
      "outputs": [
        {
          "output_type": "stream",
          "text": [
            "<class '__main__.Student'>\n",
            "<__main__.Student object at 0x7fde44a034e0>\n",
            "<__main__.Student object at 0x7fde44a034a8>\n"
          ],
          "name": "stdout"
        }
      ]
    },
    {
      "cell_type": "markdown",
      "metadata": {
        "id": "lHAMM3zw4mXl",
        "colab_type": "text"
      },
      "source": [
        ""
      ]
    },
    {
      "cell_type": "code",
      "metadata": {
        "id": "lFYabdY56e9A",
        "colab_type": "code",
        "colab": {}
      },
      "source": [
        "s1.name = \"Anant\"\n",
        "s1.roll_number = 12\n",
        "s2.name = \"Billy\""
      ],
      "execution_count": 0,
      "outputs": []
    },
    {
      "cell_type": "code",
      "metadata": {
        "id": "KPe0T7hT6gCL",
        "colab_type": "code",
        "outputId": "77263664-e1a4-4eb4-f425-fe6db0eb77ed",
        "colab": {
          "base_uri": "https://localhost:8080/",
          "height": 34
        }
      },
      "source": [
        "print(s1.name)"
      ],
      "execution_count": 0,
      "outputs": [
        {
          "output_type": "stream",
          "text": [
            "Anant\n"
          ],
          "name": "stdout"
        }
      ]
    },
    {
      "cell_type": "code",
      "metadata": {
        "id": "fhPYcBFq6gHp",
        "colab_type": "code",
        "outputId": "0bc60663-a076-42bd-d62b-51627770386b",
        "colab": {
          "base_uri": "https://localhost:8080/",
          "height": 34
        }
      },
      "source": [
        "print(s1.roll_number)"
      ],
      "execution_count": 0,
      "outputs": [
        {
          "output_type": "stream",
          "text": [
            "12\n"
          ],
          "name": "stdout"
        }
      ]
    },
    {
      "cell_type": "code",
      "metadata": {
        "id": "k4zT1QHK6gGF",
        "colab_type": "code",
        "outputId": "893fec12-ae47-4783-b106-b4aa78647c12",
        "colab": {
          "base_uri": "https://localhost:8080/",
          "height": 34
        }
      },
      "source": [
        "print(s2.name)"
      ],
      "execution_count": 0,
      "outputs": [
        {
          "output_type": "stream",
          "text": [
            "Billy\n"
          ],
          "name": "stdout"
        }
      ]
    },
    {
      "cell_type": "code",
      "metadata": {
        "id": "Hzc6nOxX61i8",
        "colab_type": "code",
        "outputId": "5ee6464a-4ca9-4ee1-e018-e811674ede57",
        "colab": {
          "base_uri": "https://localhost:8080/",
          "height": 162
        }
      },
      "source": [
        "print(s2.roll_number)"
      ],
      "execution_count": 0,
      "outputs": [
        {
          "output_type": "error",
          "ename": "AttributeError",
          "evalue": "ignored",
          "traceback": [
            "\u001b[0;31m---------------------------------------------------------------------------\u001b[0m",
            "\u001b[0;31mAttributeError\u001b[0m                            Traceback (most recent call last)",
            "\u001b[0;32m<ipython-input-11-c3d236d4236d>\u001b[0m in \u001b[0;36m<module>\u001b[0;34m()\u001b[0m\n\u001b[0;32m----> 1\u001b[0;31m \u001b[0mprint\u001b[0m\u001b[0;34m(\u001b[0m\u001b[0ms2\u001b[0m\u001b[0;34m.\u001b[0m\u001b[0mroll_number\u001b[0m\u001b[0;34m)\u001b[0m\u001b[0;34m\u001b[0m\u001b[0;34m\u001b[0m\u001b[0m\n\u001b[0m",
            "\u001b[0;31mAttributeError\u001b[0m: 'Student' object has no attribute 'roll_number'"
          ]
        }
      ]
    },
    {
      "cell_type": "code",
      "metadata": {
        "id": "5dQZjPfO63gu",
        "colab_type": "code",
        "outputId": "73382d05-c238-4d58-f11d-57131065b531",
        "colab": {
          "base_uri": "https://localhost:8080/",
          "height": 162
        }
      },
      "source": [
        "Student.name"
      ],
      "execution_count": 0,
      "outputs": [
        {
          "output_type": "error",
          "ename": "AttributeError",
          "evalue": "ignored",
          "traceback": [
            "\u001b[0;31m---------------------------------------------------------------------------\u001b[0m",
            "\u001b[0;31mAttributeError\u001b[0m                            Traceback (most recent call last)",
            "\u001b[0;32m<ipython-input-12-11d6f99f8081>\u001b[0m in \u001b[0;36m<module>\u001b[0;34m()\u001b[0m\n\u001b[0;32m----> 1\u001b[0;31m \u001b[0mStudent\u001b[0m\u001b[0;34m.\u001b[0m\u001b[0mname\u001b[0m\u001b[0;34m\u001b[0m\u001b[0;34m\u001b[0m\u001b[0m\n\u001b[0m",
            "\u001b[0;31mAttributeError\u001b[0m: type object 'Student' has no attribute 'name'"
          ]
        }
      ]
    },
    {
      "cell_type": "code",
      "metadata": {
        "id": "FWHZjY927NsH",
        "colab_type": "code",
        "outputId": "cae1ecff-e935-4502-d5ad-6093f4230cc9",
        "colab": {
          "base_uri": "https://localhost:8080/",
          "height": 50
        }
      },
      "source": [
        "class Student:\n",
        "  roll_number = None # class attribute\n",
        "  name = None # class attribute\n",
        "\n",
        "s1 = Student()\n",
        "s2 = Student()\n",
        "s1.name = \"Anant\" # object attribute\n",
        "s1.roll_number = 12\n",
        "\n",
        "print(s1.name, s2.name)\n",
        "print(s1.roll_number, s2.roll_number)"
      ],
      "execution_count": 0,
      "outputs": [
        {
          "output_type": "stream",
          "text": [
            "Anant None\n",
            "12 None\n"
          ],
          "name": "stdout"
        }
      ]
    },
    {
      "cell_type": "code",
      "metadata": {
        "id": "T7lt8hyl7oeJ",
        "colab_type": "code",
        "outputId": "3d1958f7-ee4a-4f7f-d3fc-dd83df6c9d06",
        "colab": {
          "base_uri": "https://localhost:8080/",
          "height": 34
        }
      },
      "source": [
        "print(Student.name)"
      ],
      "execution_count": 0,
      "outputs": [
        {
          "output_type": "stream",
          "text": [
            "None\n"
          ],
          "name": "stdout"
        }
      ]
    },
    {
      "cell_type": "code",
      "metadata": {
        "id": "l9_JC8Nk7-uI",
        "colab_type": "code",
        "outputId": "f28d71c3-e9d4-4e65-97d6-e5c476bcea84",
        "colab": {
          "base_uri": "https://localhost:8080/",
          "height": 84
        }
      },
      "source": [
        "class Student:\n",
        "  # dunder init method, __init__ method is called during object instantiation, similar to constructor\n",
        "  # overriding the method - defining it again\n",
        "  def __init__(self, name, roll_number):\n",
        "    #print(self)\n",
        "    # variable self contains reference to the object, the name can be anything besides self as well\n",
        "    self.name = name\n",
        "    self.roll_number = roll_number\n",
        "    print(f\"Name of the object is {self.name}\")\n",
        "    print(f\"Roll NUmber of the object is {self.roll_number}\")\n",
        "\n",
        "s1 = Student(\"Anant\", 12)\n",
        "s2 = Student(\"Pranshu\", 15)"
      ],
      "execution_count": 0,
      "outputs": [
        {
          "output_type": "stream",
          "text": [
            "Name of the object is Anant\n",
            "Roll NUmber of the object is 12\n",
            "Name of the object is Pranshu\n",
            "Roll NUmber of the object is 15\n"
          ],
          "name": "stdout"
        }
      ]
    },
    {
      "cell_type": "code",
      "metadata": {
        "id": "dwG4iZ4w9qgn",
        "colab_type": "code",
        "colab": {}
      },
      "source": [
        "s2.works_for = \"Google\""
      ],
      "execution_count": 0,
      "outputs": []
    },
    {
      "cell_type": "code",
      "metadata": {
        "id": "Ew_rgYIq_jFD",
        "colab_type": "code",
        "outputId": "00db2e96-8ea1-488e-fd54-04199c415472",
        "colab": {
          "base_uri": "https://localhost:8080/",
          "height": 162
        }
      },
      "source": [
        "s1.studies"
      ],
      "execution_count": 0,
      "outputs": [
        {
          "output_type": "error",
          "ename": "AttributeError",
          "evalue": "ignored",
          "traceback": [
            "\u001b[0;31m---------------------------------------------------------------------------\u001b[0m",
            "\u001b[0;31mAttributeError\u001b[0m                            Traceback (most recent call last)",
            "\u001b[0;32m<ipython-input-32-1d5e3bc134f0>\u001b[0m in \u001b[0;36m<module>\u001b[0;34m()\u001b[0m\n\u001b[0;32m----> 1\u001b[0;31m \u001b[0ms1\u001b[0m\u001b[0;34m.\u001b[0m\u001b[0mstudies\u001b[0m\u001b[0;34m\u001b[0m\u001b[0;34m\u001b[0m\u001b[0m\n\u001b[0m",
            "\u001b[0;31mAttributeError\u001b[0m: 'Student' object has no attribute 'studies'"
          ]
        }
      ]
    },
    {
      "cell_type": "code",
      "metadata": {
        "id": "qh6x6cvR_lKp",
        "colab_type": "code",
        "outputId": "488306b0-6d13-43e3-9cec-f70af39d26f5",
        "colab": {
          "base_uri": "https://localhost:8080/",
          "height": 34
        }
      },
      "source": [
        "s2.works_for"
      ],
      "execution_count": 0,
      "outputs": [
        {
          "output_type": "execute_result",
          "data": {
            "text/plain": [
              "'Google'"
            ]
          },
          "metadata": {
            "tags": []
          },
          "execution_count": 33
        }
      ]
    },
    {
      "cell_type": "code",
      "metadata": {
        "id": "mqpwSR93_mdj",
        "colab_type": "code",
        "outputId": "2dcffcc8-82dc-41c3-ad05-27bf934b2a42",
        "colab": {
          "base_uri": "https://localhost:8080/",
          "height": 84
        }
      },
      "source": [
        "print(s1.name, s1.roll_number)\n",
        "print(s2.name, s2.roll_number, s2.works_for)\n",
        "print(s1)\n",
        "print(s2)"
      ],
      "execution_count": 0,
      "outputs": [
        {
          "output_type": "stream",
          "text": [
            "Anant 12\n",
            "Pranshu 15 Google\n",
            "<__main__.Student object at 0x7fde4497a5c0>\n",
            "<__main__.Student object at 0x7fde4497a550>\n"
          ],
          "name": "stdout"
        }
      ]
    },
    {
      "cell_type": "code",
      "metadata": {
        "id": "uqhfWcQYADCm",
        "colab_type": "code",
        "colab": {}
      },
      "source": [
        "# __init__ is called dunder init\n",
        "# __del__ is called dunder del, and is a destructor and gets called when object has to be deleted\n",
        "# __str__ is called dunder std, and short string, by default it returs self"
      ],
      "execution_count": 0,
      "outputs": []
    },
    {
      "cell_type": "code",
      "metadata": {
        "id": "ZNnARYu7CD4P",
        "colab_type": "code",
        "colab": {}
      },
      "source": [
        ""
      ],
      "execution_count": 0,
      "outputs": []
    },
    {
      "cell_type": "code",
      "metadata": {
        "id": "q8yNd1_QBCgG",
        "colab_type": "code",
        "outputId": "d948dc74-2420-4b49-b732-67bb27eb6d7f",
        "colab": {
          "base_uri": "https://localhost:8080/",
          "height": 84
        }
      },
      "source": [
        "class Student:\n",
        "  # dunder init method, __init__ method is called during object instantiation, similar to constructor\n",
        "  # overriding the method - defining it again\n",
        "  def __init__(self, name, roll_number):\n",
        "    #print(self)\n",
        "    # variable self contains reference to the object, the name can be anything besides self as well\n",
        "    self.name = name\n",
        "    self.roll_number = roll_number\n",
        "    print(f\"Name of the object is {self.name}\")\n",
        "    print(f\"Roll NUmber of the object is {self.roll_number}\")\n",
        "  \n",
        "  def __del__(self):\n",
        "    print(\"Del destuctor is called\")\n",
        "\n",
        "  def __str__(self):\n",
        "    return f\"Name: {self.name} Roll Number:{self.roll_number}\"\n",
        "\n",
        "s3 = Student(\"Moscow\", 4)\n",
        "print(s3)"
      ],
      "execution_count": 0,
      "outputs": [
        {
          "output_type": "stream",
          "text": [
            "Name of the object is Moscow\n",
            "Roll NUmber of the object is 4\n",
            "Del destuctor is called\n",
            "Name: Moscow Roll Number:4\n"
          ],
          "name": "stdout"
        }
      ]
    },
    {
      "cell_type": "code",
      "metadata": {
        "id": "twB2_n-6BaPt",
        "colab_type": "code",
        "outputId": "d0202cb7-7e70-4a3f-c662-579078272644",
        "colab": {
          "base_uri": "https://localhost:8080/",
          "height": 34
        }
      },
      "source": [
        "s3.__del__()"
      ],
      "execution_count": 0,
      "outputs": [
        {
          "output_type": "stream",
          "text": [
            "Del destuctor is called\n"
          ],
          "name": "stdout"
        }
      ]
    },
    {
      "cell_type": "code",
      "metadata": {
        "id": "DBUGysfqBleR",
        "colab_type": "code",
        "colab": {}
      },
      "source": [
        "class Student1:\n",
        "  counter = 0\n",
        "  def __init__(self, name):\n",
        "    self.name = name\n",
        "    Student1.counter += 1\n",
        "    self.roll_number = Student1.counter\n",
        "  \n",
        "  def __str__(self):\n",
        "    return f\"Name: {self.name}, Roll Number: {self.roll_number}, Counter: {Student1.counter}\""
      ],
      "execution_count": 0,
      "outputs": []
    },
    {
      "cell_type": "code",
      "metadata": {
        "id": "3bEbvIARD1B5",
        "colab_type": "code",
        "colab": {}
      },
      "source": [
        "s1 = Student1(\"Anant\")\n",
        "s2 = Student1(\"Pranshu\")\n",
        "s3 = Student1(\"Anubhav\")"
      ],
      "execution_count": 0,
      "outputs": []
    },
    {
      "cell_type": "code",
      "metadata": {
        "id": "_PPdaFkUD_HU",
        "colab_type": "code",
        "outputId": "3a9964c8-dcd5-4832-c6b1-0161fba3d719",
        "colab": {
          "base_uri": "https://localhost:8080/",
          "height": 101
        }
      },
      "source": [
        "print(Student1.counter)\n",
        "print(s1.counter)\n",
        "print(s1)\n",
        "print(s2)\n",
        "print(s3)"
      ],
      "execution_count": 0,
      "outputs": [
        {
          "output_type": "stream",
          "text": [
            "3\n",
            "3\n",
            "Name: Anant, Roll Number: 1, Counter: 3\n",
            "Name: Pranshu, Roll Number: 2, Counter: 3\n",
            "Name: Anubhav, Roll Number: 3, Counter: 3\n"
          ],
          "name": "stdout"
        }
      ]
    },
    {
      "cell_type": "code",
      "metadata": {
        "id": "oOs6_MVuESLK",
        "colab_type": "code",
        "outputId": "1da5f2da-d523-470a-9b2a-a2322d50f66c",
        "colab": {
          "base_uri": "https://localhost:8080/",
          "height": 128
        }
      },
      "source": [
        "class Account:\n",
        "  counter = 0\n",
        "  # binding atttributes and methods which execute on attributes is called \"Encapsulation\"\n",
        "  def __init__(self, balance=0):\n",
        "    Account.counter += 1\n",
        "    self.account_number = Account.counter\n",
        "    self.balance = balance\n",
        "  \n",
        "  def deposit(self, amount):\n",
        "    if amount > 0:\n",
        "      self.balance += amount\n",
        "    else:\n",
        "      return False\n",
        "    return True\n",
        "  \n",
        "  def withdraw(self, amount):\n",
        "    if amount <= self.balance:\n",
        "      self.balance -= amount\n",
        "    else:\n",
        "      return False\n",
        "    return True \n",
        "\n",
        "class Bank:\n",
        "  # constructore or init method\n",
        "  def __init__(self, name):\n",
        "    self.name = name\n",
        "    self.accounts = []\n",
        "\n",
        "citibank = Bank(\"Citi Bank\")\n",
        "a1 = Account(5000)\n",
        "citibank.accounts.append(a1)\n",
        "citibank.accounts.append(Account(10000))\n",
        "print(a1.balance, citibank.accounts[0].balance)\n",
        "print(citibank.accounts[1].balance)"
      ],
      "execution_count": 0,
      "outputs": [
        {
          "output_type": "error",
          "ename": "SyntaxError",
          "evalue": "ignored",
          "traceback": [
            "\u001b[0;36m  File \u001b[0;32m\"<ipython-input-113-eb18a35fc9cc>\"\u001b[0;36m, line \u001b[0;32m23\u001b[0m\n\u001b[0;31m    def\u001b[0m\n\u001b[0m        ^\u001b[0m\n\u001b[0;31mSyntaxError\u001b[0m\u001b[0;31m:\u001b[0m invalid syntax\n"
          ]
        }
      ]
    },
    {
      "cell_type": "code",
      "metadata": {
        "id": "QmNVVSS-JnGk",
        "colab_type": "code",
        "outputId": "69936d61-5917-4c73-c350-5c39e295424e",
        "colab": {
          "base_uri": "https://localhost:8080/",
          "height": 168
        }
      },
      "source": [
        "a1 = Account()\n",
        "print(a1.balance)\n",
        "print(a1.deposit(100))\n",
        "print(a1.balance)\n",
        "print(a1.deposit(-100))\n",
        "print(a1.balance)\n",
        "print(a1.withdraw(200))\n",
        "print(a1.withdraw(80))\n",
        "print(a1.balance)\n",
        "a1.balance = 1000000000\n",
        "print(a1.balance)"
      ],
      "execution_count": 0,
      "outputs": [
        {
          "output_type": "stream",
          "text": [
            "0\n",
            "True\n",
            "100\n",
            "False\n",
            "100\n",
            "False\n",
            "True\n",
            "20\n",
            "1000000000\n"
          ],
          "name": "stdout"
        }
      ]
    },
    {
      "cell_type": "code",
      "metadata": {
        "id": "sbrJ5BCWJ4jw",
        "colab_type": "code",
        "colab": {}
      },
      "source": [
        "class Account:\n",
        "  counter = 0\n",
        "  # binding atttributes and methods which execute on attributes is called \"Encapsulation\"\n",
        "  def __init__(self, balance=0):\n",
        "    Account.counter += 1\n",
        "    self.__account_number = Account.counter # Data Hiding using Mangling\n",
        "    self.__balance = balance # data gets mangled, attributes get saved with a different name internally\n",
        "    self.transaction = 0\n",
        "    self.max_transaction = 10\n",
        "\n",
        "  def get_max_transaction(self):\n",
        "    return self.max_transaction\n",
        "  \n",
        "  def deposit(self, amount):\n",
        "    if amount > 0 and self.transaction < self.max_transaction:\n",
        "      self.__balance += amount\n",
        "      self.transaction += 1\n",
        "    else:\n",
        "      return False\n",
        "    return True\n",
        "  \n",
        "  def withdraw(self, amount):\n",
        "    if amount <= self.__balance and self.transaction < self.max_transaction:\n",
        "      self.__balance -= amount\n",
        "      self.transaction += 1\n",
        "    else:\n",
        "      return False\n",
        "    return True\n",
        "  \n",
        "  def get_balance(self):\n",
        "    return self.__balance\n",
        "  \n",
        "  def get_account_number(self):\n",
        "    return self.__account_number\n",
        "\n",
        "class Bank:\n",
        "  # constructore or init method\n",
        "  def __init__(self, name):\n",
        "    self.name = name\n",
        "    self.accounts = []\n",
        "\n",
        "citibank = Bank(\"Citi Bank\")\n",
        "a1 = Account(5000)\n",
        "# citibank.accounts.append(a1)\n",
        "# citibank.accounts.append(Account(10000))\n",
        "# print(a1.balance, citibank.accounts[0].balance)\n",
        "# print(citibank.accounts[1].balance)"
      ],
      "execution_count": 0,
      "outputs": []
    },
    {
      "cell_type": "code",
      "metadata": {
        "colab_type": "code",
        "outputId": "fd6a38a0-e870-4c0d-aa97-65dbce2181cd",
        "id": "GhbRGIJjM_Tf",
        "colab": {
          "base_uri": "https://localhost:8080/",
          "height": 168
        }
      },
      "source": [
        "a1 = Account()\n",
        "print(a1.get_balance())\n",
        "print(a1.deposit(100))\n",
        "print(a1.get_balance())\n",
        "print(a1.deposit(-100))\n",
        "print(a1.get_balance())\n",
        "print(a1.withdraw(200))\n",
        "print(a1.withdraw(80))\n",
        "#print(a1.__balance)\n",
        "a1.__balance = 1000000000\n",
        "print(a1.__balance)\n",
        "print(a1.get_balance())"
      ],
      "execution_count": 0,
      "outputs": [
        {
          "output_type": "stream",
          "text": [
            "0\n",
            "True\n",
            "100\n",
            "False\n",
            "100\n",
            "False\n",
            "True\n",
            "1000000000\n",
            "20\n"
          ],
          "name": "stdout"
        }
      ]
    },
    {
      "cell_type": "code",
      "metadata": {
        "id": "sciSK8PONAFT",
        "colab_type": "code",
        "colab": {}
      },
      "source": [
        "# Inheritance\n",
        "\n",
        "    #         Parent Class (Account)\n",
        "    #         /           \\\n",
        "    # SavingsAccount     CurrentAccount\n",
        "    # (Child Classes)"
      ],
      "execution_count": 0,
      "outputs": []
    },
    {
      "cell_type": "code",
      "metadata": {
        "id": "9gogE52cSPSl",
        "colab_type": "code",
        "outputId": "7d8218af-e667-4d74-bf37-64bca39770d5",
        "colab": {
          "base_uri": "https://localhost:8080/",
          "height": 414
        }
      },
      "source": [
        "class SavingsAccount(Account):\n",
        "  def __init__(self, balance):\n",
        "    super().__init__(balance)\n",
        "\n",
        "  def get_interest(self):\n",
        "    interest = super().get_balance() * 0.03\n",
        "    return interest\n",
        "\n",
        "  def add_interest(self):\n",
        "    interest = self.get_interest()\n",
        "    if super().deposit(interest):\n",
        "      return True\n",
        "    else:\n",
        "      return False\n",
        "\n",
        "class CurrentAccount(Account):\n",
        "\n",
        "  @property\n",
        "  def __init__(self, balance=0):\n",
        "    super().__init__(balance) # super keyword is used to call the parent class\n",
        "    self.max_transaction = super().max_transaction * 20\n",
        "\n",
        "sa1 = SavingsAccount(1000)\n",
        "print(sa1.get_balance())\n",
        "print(sa1.get_interest())\n",
        "print(sa1.add_interest())\n",
        "print(sa1.get_balance())\n",
        "\n",
        "ca = CurrentAccount(2000)\n",
        "print(ca.get_balance())\n",
        "print(ca.max_transaction)\n",
        "print(sa1.max_transaction)"
      ],
      "execution_count": 0,
      "outputs": [
        {
          "output_type": "stream",
          "text": [
            "1000\n",
            "30.0\n",
            "True\n",
            "1030.0\n"
          ],
          "name": "stdout"
        },
        {
          "output_type": "error",
          "ename": "AttributeError",
          "evalue": "ignored",
          "traceback": [
            "\u001b[0;31m---------------------------------------------------------------------------\u001b[0m",
            "\u001b[0;31mAttributeError\u001b[0m                            Traceback (most recent call last)",
            "\u001b[0;32m<ipython-input-125-250b970cbf67>\u001b[0m in \u001b[0;36m<module>\u001b[0;34m()\u001b[0m\n\u001b[1;32m     27\u001b[0m \u001b[0mprint\u001b[0m\u001b[0;34m(\u001b[0m\u001b[0msa1\u001b[0m\u001b[0;34m.\u001b[0m\u001b[0mget_balance\u001b[0m\u001b[0;34m(\u001b[0m\u001b[0;34m)\u001b[0m\u001b[0;34m)\u001b[0m\u001b[0;34m\u001b[0m\u001b[0;34m\u001b[0m\u001b[0m\n\u001b[1;32m     28\u001b[0m \u001b[0;34m\u001b[0m\u001b[0m\n\u001b[0;32m---> 29\u001b[0;31m \u001b[0mca\u001b[0m \u001b[0;34m=\u001b[0m \u001b[0mCurrentAccount\u001b[0m\u001b[0;34m(\u001b[0m\u001b[0;36m2000\u001b[0m\u001b[0;34m)\u001b[0m\u001b[0;34m\u001b[0m\u001b[0;34m\u001b[0m\u001b[0m\n\u001b[0m\u001b[1;32m     30\u001b[0m \u001b[0mprint\u001b[0m\u001b[0;34m(\u001b[0m\u001b[0mca\u001b[0m\u001b[0;34m.\u001b[0m\u001b[0mget_balance\u001b[0m\u001b[0;34m(\u001b[0m\u001b[0;34m)\u001b[0m\u001b[0;34m)\u001b[0m\u001b[0;34m\u001b[0m\u001b[0;34m\u001b[0m\u001b[0m\n\u001b[1;32m     31\u001b[0m \u001b[0mprint\u001b[0m\u001b[0;34m(\u001b[0m\u001b[0mca\u001b[0m\u001b[0;34m.\u001b[0m\u001b[0mmax_transaction\u001b[0m\u001b[0;34m)\u001b[0m\u001b[0;34m\u001b[0m\u001b[0;34m\u001b[0m\u001b[0m\n",
            "\u001b[0;32m<ipython-input-125-250b970cbf67>\u001b[0m in \u001b[0;36m__init__\u001b[0;34m(self, balance)\u001b[0m\n\u001b[1;32m     19\u001b[0m   \u001b[0;32mdef\u001b[0m \u001b[0m__init__\u001b[0m\u001b[0;34m(\u001b[0m\u001b[0mself\u001b[0m\u001b[0;34m,\u001b[0m \u001b[0mbalance\u001b[0m\u001b[0;34m=\u001b[0m\u001b[0;36m0\u001b[0m\u001b[0;34m)\u001b[0m\u001b[0;34m:\u001b[0m\u001b[0;34m\u001b[0m\u001b[0;34m\u001b[0m\u001b[0m\n\u001b[1;32m     20\u001b[0m     \u001b[0msuper\u001b[0m\u001b[0;34m(\u001b[0m\u001b[0;34m)\u001b[0m\u001b[0;34m.\u001b[0m\u001b[0m__init__\u001b[0m\u001b[0;34m(\u001b[0m\u001b[0mbalance\u001b[0m\u001b[0;34m)\u001b[0m \u001b[0;31m# super keyword is used to call the parent class\u001b[0m\u001b[0;34m\u001b[0m\u001b[0;34m\u001b[0m\u001b[0m\n\u001b[0;32m---> 21\u001b[0;31m     \u001b[0mself\u001b[0m\u001b[0;34m.\u001b[0m\u001b[0mmax_transaction\u001b[0m \u001b[0;34m=\u001b[0m \u001b[0msuper\u001b[0m\u001b[0;34m(\u001b[0m\u001b[0;34m)\u001b[0m\u001b[0;34m.\u001b[0m\u001b[0mmax_transaction\u001b[0m \u001b[0;34m*\u001b[0m \u001b[0;36m20\u001b[0m\u001b[0;34m\u001b[0m\u001b[0;34m\u001b[0m\u001b[0m\n\u001b[0m\u001b[1;32m     22\u001b[0m \u001b[0;34m\u001b[0m\u001b[0m\n\u001b[1;32m     23\u001b[0m \u001b[0msa1\u001b[0m \u001b[0;34m=\u001b[0m \u001b[0mSavingsAccount\u001b[0m\u001b[0;34m(\u001b[0m\u001b[0;36m1000\u001b[0m\u001b[0;34m)\u001b[0m\u001b[0;34m\u001b[0m\u001b[0;34m\u001b[0m\u001b[0m\n",
            "\u001b[0;31mAttributeError\u001b[0m: 'super' object has no attribute 'max_transaction'"
          ]
        }
      ]
    },
    {
      "cell_type": "code",
      "metadata": {
        "id": "TSA7Nil-SsEb",
        "colab_type": "code",
        "colab": {}
      },
      "source": [
        ""
      ],
      "execution_count": 0,
      "outputs": []
    }
  ]
}