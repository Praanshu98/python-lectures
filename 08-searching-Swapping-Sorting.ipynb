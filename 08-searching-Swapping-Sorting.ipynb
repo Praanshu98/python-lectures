{
 "cells": [
  {
   "cell_type": "markdown",
   "metadata": {},
   "source": [
    "### Linear Search"
   ]
  },
  {
   "cell_type": "code",
   "execution_count": 17,
   "metadata": {},
   "outputs": [
    {
     "data": {
      "text/plain": [
       "4"
      ]
     },
     "execution_count": 17,
     "metadata": {},
     "output_type": "execute_result"
    }
   ],
   "source": [
    "temp_list = [32, 34, 54, 65, 12, 78]\n",
    "\n",
    "def linear_search(arr, target):\n",
    "    # return the index of the target element\n",
    "    n = len(arr)\n",
    "    for index in range(n):\n",
    "        if arr[index] == target:\n",
    "            return index\n",
    "    return None\n",
    "\n",
    "def linear_search(arr, target):\n",
    "    # return the index of the target element\n",
    "    n = len(arr)\n",
    "    for index, element in enumerate(arr):\n",
    "        if element == target:\n",
    "            return index\n",
    "    return None\n",
    "\n",
    "linear_search(temp_list, 54)\n",
    "linear_search(temp_list, 12)\n",
    "#linear_search(temp_list, 100)"
   ]
  },
  {
   "cell_type": "markdown",
   "metadata": {},
   "source": [
    "### Binary Search"
   ]
  },
  {
   "cell_type": "code",
   "execution_count": 26,
   "metadata": {},
   "outputs": [],
   "source": [
    "def binary_search(arr, target):\n",
    "    n = len(arr)\n",
    "    left = 0\n",
    "    right = n - 1\n",
    "    mid = (left + right) // 2\n",
    "    \n",
    "    while left <= right:\n",
    "        if target == arr[mid]:\n",
    "            return mid\n",
    "        elif target < arr[mid]:\n",
    "            # left subarray\n",
    "            right = mid - 1\n",
    "            mid = (left + right) // 2\n",
    "        else:\n",
    "            # right subarray\n",
    "            left = mid + 1\n",
    "            mid = (left + right) // 2\n",
    "    return None\n",
    "\n",
    "temp_list = [7, 8, 10, 45, 56, 78, 100]\n",
    "# for this to work, the array needs to sorted\n",
    "binary_search(temp_list, 56)\n",
    "binary_search(temp_list, 8)\n",
    "binary_search(temp_list, 79)"
   ]
  },
  {
   "cell_type": "markdown",
   "metadata": {},
   "source": [
    "### Swapping"
   ]
  },
  {
   "cell_type": "code",
   "execution_count": 37,
   "metadata": {},
   "outputs": [
    {
     "name": "stdout",
     "output_type": "stream",
     "text": [
      "5 6 4335567120 4335567152\n",
      "6 5 4335567152 4335567120\n"
     ]
    }
   ],
   "source": [
    "x, y = 5, 6\n",
    "\n",
    "def swap(x, y):\n",
    "    return y, x\n",
    "\n",
    "print(x, y, id(x), id(y))\n",
    "x, y = swap(x, y)\n",
    "print(x, y, id(x), id(y))"
   ]
  },
  {
   "cell_type": "markdown",
   "metadata": {},
   "source": [
    "#### Reference by value, scoping"
   ]
  },
  {
   "cell_type": "code",
   "execution_count": 34,
   "metadata": {},
   "outputs": [
    {
     "name": "stdout",
     "output_type": "stream",
     "text": [
      "5 6\n",
      "10 8\n"
     ]
    }
   ],
   "source": [
    "x,y = 5, 6\n",
    "\n",
    "# Call by value\n",
    "def dummy_func(x, y):\n",
    "    x = 10\n",
    "    y = 8\n",
    "    return None\n",
    "\n",
    "# print(x, y)\n",
    "# dummy_func(x, y)\n",
    "# print(x, y)\n",
    "\n",
    "def dummy_func2(a, b):\n",
    "    global x\n",
    "    global y\n",
    "    x = 10\n",
    "    y = 8\n",
    "    return None\n",
    "\n",
    "print(x, y)\n",
    "dummy_func2(x, y)\n",
    "print(x, y)"
   ]
  },
  {
   "cell_type": "code",
   "execution_count": null,
   "metadata": {},
   "outputs": [],
   "source": [
    "global_list = [10, 20, 30, 40, 50, 60]\n",
    "global_int = 15\n",
    "\n",
    "def dummy_list_func1(local_list):\n",
    "    local_list[1] += 5\n",
    "    global_int += 5\n",
    "    return None\n",
    "\n",
    "print(global_list, global_int)\n",
    "dummy_list_func1_func1(global_list, global_int)\n",
    "print(global_list, global_int)  "
   ]
  },
  {
   "cell_type": "code",
   "execution_count": 35,
   "metadata": {},
   "outputs": [
    {
     "name": "stdout",
     "output_type": "stream",
     "text": [
      "[10, 20, 30, 40, 50, 60, 70]\n",
      "[10, 20, 30, 60, 50, 40, 70]\n"
     ]
    }
   ],
   "source": [
    "arr = [10, 20, 30, 40, 50, 60, 70]\n",
    "\n",
    "def swap(arr, index1, index2):\n",
    "    arr[index1], arr[index2] = arr[index2], arr[index1]\n",
    "    \n",
    "print(arr)\n",
    "swap(arr, 3, 5)\n",
    "print(arr)"
   ]
  },
  {
   "cell_type": "markdown",
   "metadata": {},
   "source": [
    "### Sorting"
   ]
  },
  {
   "cell_type": "code",
   "execution_count": 39,
   "metadata": {},
   "outputs": [
    {
     "name": "stdout",
     "output_type": "stream",
     "text": [
      "3\n"
     ]
    }
   ],
   "source": [
    "# try to find the minimum number in a list\n",
    "\n",
    "arr = [9, 8, 7, 3, 5, 10]\n",
    "\n",
    "# a, b, c = 3, 2, 4\n",
    "# min_ = a\n",
    "# if min_ > b:\n",
    "#     min_ = b\n",
    "# if min_ > c:\n",
    "#     min_ = c\n",
    "# print(min_)\n",
    "\n",
    "min_ = arr[0]\n",
    "for i in range(1, len(arr)):\n",
    "    if arr[i] < min_:\n",
    "        min_ = arr[i]\n",
    "print(min_)"
   ]
  },
  {
   "cell_type": "code",
   "execution_count": 45,
   "metadata": {},
   "outputs": [
    {
     "name": "stdout",
     "output_type": "stream",
     "text": [
      "[9, 8, 7, 3, 5, 10]\n",
      "[3, 5, 7, 8, 9, 10]\n"
     ]
    }
   ],
   "source": [
    "# selection sort\n",
    "arr = [9, 8, 7, 3, 5, 10]\n",
    "\n",
    "def selection_sort(arr):\n",
    "    n = len(arr)\n",
    "    for index in range(0, n-1):\n",
    "        min_idx = index\n",
    "        for i in range(min_idx+1, n):\n",
    "            #print(i)\n",
    "            if arr[i] < arr[min_idx]:\n",
    "                min_idx = i\n",
    "        arr[min_idx], arr[index] = arr[index], arr[min_idx]\n",
    "        #print(arr)\n",
    "\n",
    "print(arr)\n",
    "selection_sort(arr)\n",
    "print(arr)"
   ]
  },
  {
   "cell_type": "code",
   "execution_count": null,
   "metadata": {},
   "outputs": [],
   "source": [
    "# to watch the bubble sort video"
   ]
  },
  {
   "cell_type": "code",
   "execution_count": 4,
   "metadata": {},
   "outputs": [
    {
     "name": "stdout",
     "output_type": "stream",
     "text": [
      "[10, 9, 8, 7, 6, 5]\n",
      "After Pass 1 array is [9, 8, 7, 6, 5, 10]\n",
      "After Pass 2 array is [8, 7, 6, 5, 9, 10]\n",
      "After Pass 3 array is [7, 6, 5, 8, 9, 10]\n",
      "After Pass 4 array is [6, 5, 7, 8, 9, 10]\n",
      "After Pass 5 array is [5, 6, 7, 8, 9, 10]\n",
      "[5, 6, 7, 8, 9, 10]\n"
     ]
    }
   ],
   "source": [
    "arr = [10, 9, 8, 7, 6, 5]\n",
    "\n",
    "def bubble_sort(arr):\n",
    "    n = len(arr)\n",
    "    for j in range(n-1):\n",
    "        for i in range(0, n-1-j):\n",
    "            if arr[i] > arr[i+1]:\n",
    "                arr[i], arr[i+1] = arr[i+1], arr[i]\n",
    "        print(f\"After Pass {j+1} array is {arr}\")\n",
    "                \n",
    "print(arr)\n",
    "bubble_sort(arr)\n",
    "print(arr)"
   ]
  },
  {
   "cell_type": "code",
   "execution_count": null,
   "metadata": {},
   "outputs": [],
   "source": [
    "### Insertion Sort\n",
    "def insertion_sort(arr):\n",
    "    n = len(arr)\n",
    "    for i in range(1, n):\n",
    "        value = arr[i]\n",
    "        j = i - 1\n",
    "        while j >= 0 and value < arr[j]:\n",
    "            arr[j+1] = arr[j]\n",
    "            j = j - 1\n",
    "        arr[j+1] = value"
   ]
  },
  {
   "cell_type": "code",
   "execution_count": null,
   "metadata": {},
   "outputs": [],
   "source": []
  },
  {
   "cell_type": "code",
   "execution_count": null,
   "metadata": {},
   "outputs": [],
   "source": []
  },
  {
   "cell_type": "code",
   "execution_count": null,
   "metadata": {},
   "outputs": [],
   "source": []
  },
  {
   "cell_type": "code",
   "execution_count": null,
   "metadata": {},
   "outputs": [],
   "source": []
  }
 ],
 "metadata": {
  "kernelspec": {
   "display_name": "Python 3",
   "language": "python",
   "name": "python3"
  },
  "language_info": {
   "codemirror_mode": {
    "name": "ipython",
    "version": 3
   },
   "file_extension": ".py",
   "mimetype": "text/x-python",
   "name": "python",
   "nbconvert_exporter": "python",
   "pygments_lexer": "ipython3",
   "version": "3.7.2"
  }
 },
 "nbformat": 4,
 "nbformat_minor": 2
}
