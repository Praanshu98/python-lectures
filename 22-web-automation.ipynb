{
 "cells": [
  {
   "cell_type": "code",
   "execution_count": 1,
   "metadata": {},
   "outputs": [
    {
     "name": "stdout",
     "output_type": "stream",
     "text": [
      "Requirement already satisfied: selenium in /Users/anant/anaconda3/lib/python3.7/site-packages (3.141.0)\r\n",
      "Requirement already satisfied: urllib3 in /Users/anant/anaconda3/lib/python3.7/site-packages (from selenium) (1.25.8)\r\n"
     ]
    }
   ],
   "source": [
    "!pip install selenium"
   ]
  },
  {
   "cell_type": "code",
   "execution_count": 2,
   "metadata": {},
   "outputs": [],
   "source": [
    "from selenium import webdriver"
   ]
  },
  {
   "cell_type": "code",
   "execution_count": 3,
   "metadata": {},
   "outputs": [
    {
     "data": {
      "text/plain": [
       "<selenium.webdriver.chrome.webdriver.WebDriver (session=\"2a8ebcdb0f0ec8185918ce20cadc18ab\")>"
      ]
     },
     "execution_count": 3,
     "metadata": {},
     "output_type": "execute_result"
    }
   ],
   "source": [
    "webdriver.Chrome(\"/Users/anant/Downloads/chromedriver\")\n",
    "\n",
    "# For Windows users\n",
    "#webdriver.Chrome(r\"C:\\..\\chromdriver.exe\")"
   ]
  },
  {
   "cell_type": "code",
   "execution_count": 8,
   "metadata": {},
   "outputs": [
    {
     "data": {
      "text/plain": [
       "'Users/anant/Downloads/chromedriver'"
      ]
     },
     "execution_count": 8,
     "metadata": {},
     "output_type": "execute_result"
    }
   ],
   "source": [
    "import os\n",
    "os.path.join(\"Users\", \"anant\", \"Downloads\", \"chromedriver\")"
   ]
  },
  {
   "cell_type": "code",
   "execution_count": 19,
   "metadata": {},
   "outputs": [],
   "source": [
    "import time\n",
    "from selenium import webdriver\n",
    "\n",
    "browser = webdriver.Chrome(\"/Users/anant/Downloads/chromedriver\")\n",
    "browser.get(\"https://www.google.com\")\n",
    "search_box = browser.find_element_by_name(\"q\")\n",
    "search_box.send_keys(\"Kenya\")\n",
    "\n",
    "time.sleep(1)\n",
    "\n",
    "search_button = browser.find_element_by_name(\"btnK\")\n",
    "search_button.click()\n",
    "\n",
    "time.sleep(1)\n",
    "\n",
    "wikipedia_link = browser.find_element_by_partial_link_text(\"wikipedia\")\n",
    "wikipedia_link.click()"
   ]
  },
  {
   "cell_type": "code",
   "execution_count": 23,
   "metadata": {},
   "outputs": [
    {
     "name": "stdout",
     "output_type": "stream",
     "text": [
      "Didn't work for -3\n",
      "Didn't work for -2\n",
      "Didn't work for -1\n",
      "Didn't work for 1\n",
      "Didn't work for 2\n",
      "Didn't work for 3\n",
      "Didn't work for 4\n",
      "Didn't work for 5\n",
      "Didn't work for 6\n",
      "Didn't work for 7\n",
      "Didn't work for 8\n",
      "Didn't work for 9\n",
      "Didn't work for 10\n",
      "Didn't work for 11\n",
      "Didn't work for 12\n",
      "Didn't work for 13\n"
     ]
    }
   ],
   "source": [
    "import time\n",
    "from selenium import webdriver\n",
    "\n",
    "browser = webdriver.Chrome(\"/Users/anant/Downloads/chromedriver\")\n",
    "browser.get(\"https://www.facebook.com\")\n",
    "email_box = browser.find_element_by_name(\"email\")\n",
    "email_box.send_keys(\"anantm@facebook.com\")\n",
    "password_box = browser.find_element_by_name(\"pass\")\n",
    "password_box.send_keys(\"1234\")\n",
    "\n",
    "# error handling mechanism\n",
    "for i in range(-3, 14, 1):\n",
    "    try:\n",
    "        login_button = browser.find_element_by_id(f\"u_{i}_b\")\n",
    "        login_button.click()\n",
    "    except:\n",
    "        print(\"Didn't work for\", i)"
   ]
  }
 ],
 "metadata": {
  "kernelspec": {
   "display_name": "Python 3",
   "language": "python",
   "name": "python3"
  },
  "language_info": {
   "codemirror_mode": {
    "name": "ipython",
    "version": 3
   },
   "file_extension": ".py",
   "mimetype": "text/x-python",
   "name": "python",
   "nbconvert_exporter": "python",
   "pygments_lexer": "ipython3",
   "version": "3.7.6"
  }
 },
 "nbformat": 4,
 "nbformat_minor": 4
}
