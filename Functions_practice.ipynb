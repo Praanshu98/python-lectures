{
 "cells": [
  {
   "cell_type": "code",
   "execution_count": 12,
   "metadata": {},
   "outputs": [],
   "source": [
    "def custom_sqrt(num):\n",
    "    left = 0\n",
    "    right = num\n",
    "    mid = (left + right) / 2\n",
    "    sq = mid * mid\n",
    "    while abs(sq - num) > 1e-10: \n",
    "        if sq < num:\n",
    "            left = mid\n",
    "        else:\n",
    "            right = mid\n",
    "        mid = (left + right)/2\n",
    "        sq = mid * mid\n",
    "    return mid"
   ]
  },
  {
   "cell_type": "code",
   "execution_count": 13,
   "metadata": {},
   "outputs": [
    {
     "data": {
      "text/plain": [
       "10.000000000002274"
      ]
     },
     "execution_count": 13,
     "metadata": {},
     "output_type": "execute_result"
    }
   ],
   "source": [
    "custom_sqrt(100)"
   ]
  },
  {
   "cell_type": "code",
   "execution_count": 17,
   "metadata": {},
   "outputs": [
    {
     "data": {
      "text/plain": [
       "4"
      ]
     },
     "execution_count": 17,
     "metadata": {},
     "output_type": "execute_result"
    }
   ],
   "source": [
    "def custom_log(x, b):\n",
    "    count = 0\n",
    "    while x > 1:\n",
    "        x = x / b\n",
    "        count += 1\n",
    "    return count\n",
    "\n",
    "custom_log(8, 2)\n",
    "custom_log(2, 2)\n",
    "custom_log(27, 3)\n",
    "custom_log(28, 3)"
   ]
  },
  {
   "cell_type": "code",
   "execution_count": 27,
   "metadata": {},
   "outputs": [
    {
     "data": {
      "text/plain": [
       "3.0331032563043436"
      ]
     },
     "execution_count": 27,
     "metadata": {},
     "output_type": "execute_result"
    }
   ],
   "source": [
    "def newton_log(num, b):\n",
    "    left = 0\n",
    "    right = num\n",
    "    mid = (left + right) / 2\n",
    "    temp = b ** mid\n",
    "    while abs(temp - num) > 1e-12: \n",
    "        if temp < num:\n",
    "            left = mid\n",
    "        else:\n",
    "            right = mid\n",
    "        mid = (left + right)/2\n",
    "        temp = b ** mid\n",
    "    return mid\n",
    "\n",
    "newton_log(8, 2)\n",
    "newton_log(2, 2)\n",
    "newton_log(27, 3)\n",
    "newton_log(28, 3)"
   ]
  },
  {
   "cell_type": "markdown",
   "metadata": {},
   "source": [
    "### Bit, Binary, ASCII"
   ]
  },
  {
   "cell_type": "code",
   "execution_count": null,
   "metadata": {},
   "outputs": [],
   "source": []
  }
 ],
 "metadata": {
  "kernelspec": {
   "display_name": "Python 3",
   "language": "python",
   "name": "python3"
  },
  "language_info": {
   "codemirror_mode": {
    "name": "ipython",
    "version": 3
   },
   "file_extension": ".py",
   "mimetype": "text/x-python",
   "name": "python",
   "nbconvert_exporter": "python",
   "pygments_lexer": "ipython3",
   "version": "3.7.2"
  }
 },
 "nbformat": 4,
 "nbformat_minor": 2
}
