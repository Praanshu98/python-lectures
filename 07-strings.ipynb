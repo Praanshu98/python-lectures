{
 "cells": [
  {
   "cell_type": "code",
   "execution_count": 8,
   "metadata": {},
   "outputs": [
    {
     "name": "stdout",
     "output_type": "stream",
     "text": [
      "['a', 'n', 'a', 'n', 't']\n",
      "n\n",
      "['a', 'N', 'a', 'n', 't']\n",
      "anant\n",
      "n\n"
     ]
    }
   ],
   "source": [
    "list_alphabets = [\"a\", \"n\", \"a\", \"n\", \"t\"]\n",
    "print(list_alphabets)\n",
    "print(list_alphabets[1]) # access element by index\n",
    "list_alphabets[1] = \"N\" # change is possible because lists are mutable\n",
    "print(list_alphabets)\n",
    "\n",
    "str_alphabets = \"anant\"\n",
    "print(str_alphabets)\n",
    "print(str_alphabets[1]) # accessing element by index is same as lists\n",
    "# str_alphabets[1] = \"N\" # change is not possible because str is an immutable object"
   ]
  },
  {
   "cell_type": "code",
   "execution_count": 10,
   "metadata": {},
   "outputs": [
    {
     "name": "stdout",
     "output_type": "stream",
     "text": [
      "Hello World!\n",
      "llo World!\n",
      "!\n",
      "HloWrd\n"
     ]
    }
   ],
   "source": [
    "s = \"Hello World!\"\n",
    "print(s[:])\n",
    "print(s[2:])\n",
    "print(s[-1])\n",
    "print(s[::2])"
   ]
  },
  {
   "cell_type": "code",
   "execution_count": 12,
   "metadata": {},
   "outputs": [
    {
     "name": "stdout",
     "output_type": "stream",
     "text": [
      "e\n",
      "l\n",
      "l\n",
      "o\n",
      " \n",
      "W\n",
      "o\n",
      "r\n",
      "l\n",
      "d\n",
      "!\n"
     ]
    }
   ],
   "source": [
    "for character in s[1:]:\n",
    "    print(character)"
   ]
  },
  {
   "cell_type": "code",
   "execution_count": 15,
   "metadata": {},
   "outputs": [
    {
     "name": "stdout",
     "output_type": "stream",
     "text": [
      "Jesslin Ann\n",
      "Jesslin Jesslin Jesslin \n"
     ]
    }
   ],
   "source": [
    "fname = \"Jesslin\"\n",
    "lname = \"Ann\"\n",
    "print(fname + \" \" + lname)\n",
    "print((fname + \" \")*3)"
   ]
  },
  {
   "cell_type": "markdown",
   "metadata": {},
   "source": [
    "### Operations on String"
   ]
  },
  {
   "cell_type": "code",
   "execution_count": 32,
   "metadata": {},
   "outputs": [
    {
     "name": "stdout",
     "output_type": "stream",
     "text": [
      "HELLO WORLD!\n",
      "hello world!\n",
      "3\n",
      "2\n",
      "3\n",
      "1\n",
      "True\n",
      "False\n"
     ]
    }
   ],
   "source": [
    "s = \"Hello World!\"\n",
    "print(s.upper())\n",
    "print(s.lower())\n",
    "print(s.count(\"l\"))\n",
    "print(s.count(\"l\", 3))\n",
    "print(s.count(\"l\", 2))\n",
    "print(s.count(\"l\", 4))\n",
    "print(s.startswith(\"He\"))\n",
    "print(s.endswith(\"e!\"))"
   ]
  },
  {
   "cell_type": "code",
   "execution_count": 40,
   "metadata": {},
   "outputs": [
    {
     "name": "stdout",
     "output_type": "stream",
     "text": [
      "['2-conditions.py', 'Memory.ipynb', 'Functions_practice.ipynb', 'Lists.ipynb', '3-loops.py', '.ipynb_checkpoints', 'Strings.ipynb', '4-functions.py', '.idea']\n",
      "['Memory.ipynb', 'Functions_practice.ipynb', 'Lists.ipynb', 'Strings.ipynb']\n"
     ]
    }
   ],
   "source": [
    " # Application of endswith method on strings\n",
    "import os\n",
    "names = os.listdir(\".\")\n",
    "print(names)\n",
    "python_files = []\n",
    "for name in names:\n",
    "    if name.endswith(\".ipynb\"):\n",
    "        python_files.append(name)\n",
    "print(python_files)"
   ]
  },
  {
   "cell_type": "code",
   "execution_count": 49,
   "metadata": {},
   "outputs": [
    {
     "name": "stdout",
     "output_type": "stream",
     "text": [
      "https://www.reue\n"
     ]
    },
    {
     "data": {
      "text/plain": [
       "True"
      ]
     },
     "execution_count": 49,
     "metadata": {},
     "output_type": "execute_result"
    }
   ],
   "source": [
    " # Application of starts method on strings\n",
    "link1 = \"hTTps://www.reue\"\n",
    "link2 = \"Http://www.rebner\"\n",
    "link3 = \"edhsuhuwe://\"\n",
    "\n",
    "link2.lower().startswith(\"http\")"
   ]
  },
  {
   "cell_type": "code",
   "execution_count": 52,
   "metadata": {},
   "outputs": [
    {
     "name": "stdout",
     "output_type": "stream",
     "text": [
      "['the', 'tallest', 'tree', 'is', 'also', 'the', 'oldest', 'tree']\n"
     ]
    }
   ],
   "source": [
    "sentence = \"the tallest tree is also the oldest tree\"\n",
    "result = sentence.split(\" \")\n",
    "print(result)"
   ]
  },
  {
   "cell_type": "code",
   "execution_count": 57,
   "metadata": {},
   "outputs": [
    {
     "name": "stdout",
     "output_type": "stream",
     "text": [
      "8\n",
      "8\n",
      "40\n"
     ]
    }
   ],
   "source": [
    "# Solution-1\n",
    "count = 0\n",
    "for i in result:\n",
    "    count += 1\n",
    "print(count)\n",
    "\n",
    "# Solution-2\n",
    "print(len(result))\n",
    "print(len(sentence))"
   ]
  },
  {
   "cell_type": "markdown",
   "metadata": {},
   "source": [
    "### f-strings"
   ]
  },
  {
   "cell_type": "code",
   "execution_count": 66,
   "metadata": {},
   "outputs": [
    {
     "name": "stdout",
     "output_type": "stream",
     "text": [
      "ANANT MITTAL 24\n",
      "Anant Mittal\n",
      "Anant Mittal 24\n",
      "{fname} {lname} {age}\n"
     ]
    }
   ],
   "source": [
    "fname = \"Anant\"\n",
    "lname = \"Mittal\"\n",
    "age = 24\n",
    "\n",
    "print(fname.upper() + \" \" + lname.upper() + \" \" + str(age))\n",
    "\n",
    "print(fname + \" \" + lname)\n",
    "\n",
    "print(f\"{fname} {lname} {age}\")\n",
    "print(\"{fname} {lname} {age}\")"
   ]
  },
  {
   "cell_type": "markdown",
   "metadata": {},
   "source": [
    "### Palindrome strings\n",
    "\n",
    "LEVEL is a palindrome \\\n",
    "MADAM is a palindrome"
   ]
  },
  {
   "cell_type": "code",
   "execution_count": 71,
   "metadata": {},
   "outputs": [
    {
     "name": "stdout",
     "output_type": "stream",
     "text": [
      "[4, 3, 2, 1]\n",
      "tnana\n",
      "False\n",
      "True\n"
     ]
    }
   ],
   "source": [
    "a = [1, 2, 3, 4]\n",
    "print(a[::-1])\n",
    "b = \"anant\"\n",
    "print(b[::-1])\n",
    "\n",
    "def is_palindrome(string):\n",
    "    if string == string[::-1]:\n",
    "        return True\n",
    "    else:\n",
    "        return False\n",
    "\n",
    "print(is_palindrome(\"anant\"))\n",
    "print(is_palindrome(\"level\"))"
   ]
  },
  {
   "cell_type": "code",
   "execution_count": 77,
   "metadata": {},
   "outputs": [
    {
     "name": "stdout",
     "output_type": "stream",
     "text": [
      "0\n",
      "False\n",
      "True\n"
     ]
    }
   ],
   "source": [
    "def is_palindrome(string):\n",
    "    count = 0\n",
    "    left = 0\n",
    "    right = len(string) - 1\n",
    "    while left <= right:\n",
    "        if string[left] == string[right]:\n",
    "            left += 1\n",
    "            right -= 1\n",
    "            count += 1\n",
    "        else:\n",
    "            print(count)\n",
    "            return False\n",
    "    return True\n",
    "\n",
    "print(is_palindrome(\"anant\"))\n",
    "print(is_palindrome(\"level\"))"
   ]
  },
  {
   "cell_type": "code",
   "execution_count": null,
   "metadata": {},
   "outputs": [],
   "source": []
  }
 ],
 "metadata": {
  "kernelspec": {
   "display_name": "Python 3",
   "language": "python",
   "name": "python3"
  },
  "language_info": {
   "codemirror_mode": {
    "name": "ipython",
    "version": 3
   },
   "file_extension": ".py",
   "mimetype": "text/x-python",
   "name": "python",
   "nbconvert_exporter": "python",
   "pygments_lexer": "ipython3",
   "version": "3.7.2"
  }
 },
 "nbformat": 4,
 "nbformat_minor": 2
}
