{
 "cells": [
  {
   "cell_type": "code",
   "execution_count": 28,
   "metadata": {},
   "outputs": [],
   "source": [
    "# Lists \n",
    "#Data Structure - Ways to store your data (multiple Python objects) in a structured way\n",
    "# Lists - An ordered collection of Python objects, [], int, float, str, bool\n",
    "# Lists are mutable - id(dummy_list) remains same\n",
    "# This is different from the fundamental Python objects, int, float, str, bool\n",
    "# Lists is also a Python object why? because everything in Python is an object\n",
    "# Lists can contains lists themselves as a valid element"
   ]
  },
  {
   "cell_type": "markdown",
   "metadata": {},
   "source": [
    "### Tuples"
   ]
  },
  {
   "cell_type": "code",
   "execution_count": 3,
   "metadata": {},
   "outputs": [
    {
     "name": "stdout",
     "output_type": "stream",
     "text": [
      "()\n",
      "(1, 2, 3)\n"
     ]
    }
   ],
   "source": [
    "# We denote a tuple using ()\n",
    "tup0 = ()\n",
    "print(tup0)\n",
    "tup1 = (1, 2, 3)\n",
    "print(tup1)"
   ]
  },
  {
   "cell_type": "code",
   "execution_count": 11,
   "metadata": {},
   "outputs": [
    {
     "name": "stdout",
     "output_type": "stream",
     "text": [
      "2\n",
      "[1, 4, 3]\n"
     ]
    }
   ],
   "source": [
    "# Indexing in tuple, indexing is always done using [] brackets\n",
    "print(tup1[1])\n",
    "\n",
    "# Try updating an element using index\n",
    "list1 = [1, 2, 3]\n",
    "list1[1] = 4\n",
    "print(list1)\n",
    "\n",
    "tup1 = (1, 2, 3)\n",
    "#tup1[1] = 4\n",
    "#print(tup1)\n",
    "# 'tuple' object does not support item assignment - similar to strings\n",
    "# Strings are immutable\n",
    "# Tuple is a immutable version of a list\n"
   ]
  },
  {
   "cell_type": "code",
   "execution_count": 12,
   "metadata": {},
   "outputs": [
    {
     "name": "stdout",
     "output_type": "stream",
     "text": [
      "1\n",
      "2\n",
      "3\n"
     ]
    }
   ],
   "source": [
    "# for loop on a tuple\n",
    "for element in (1, 2, 3):\n",
    "    print(element)\n",
    "# tuples are iterable"
   ]
  },
  {
   "cell_type": "code",
   "execution_count": 14,
   "metadata": {},
   "outputs": [
    {
     "name": "stdout",
     "output_type": "stream",
     "text": [
      "True\n",
      "True\n"
     ]
    }
   ],
   "source": [
    "print((1, 2) == (1, 2)) # same for lists as well\n",
    "print((1, 2) is (1, 2)) # not same as that of lists, answer for tuple will be true"
   ]
  },
  {
   "cell_type": "code",
   "execution_count": 19,
   "metadata": {},
   "outputs": [
    {
     "name": "stdout",
     "output_type": "stream",
     "text": [
      "1 2\n",
      "(1, 2)\n",
      "(3, 4)\n"
     ]
    }
   ],
   "source": [
    "# Packing and unpacking\n",
    "x, y = 1, 2 # packing and unpacking\n",
    "print(x, y)\n",
    "\n",
    "z = 1, 2 # packing\n",
    "print(z)\n",
    "\n",
    "def foo():\n",
    "    return 3, 4\n",
    "\n",
    "a = foo()\n",
    "print(a)"
   ]
  },
  {
   "cell_type": "code",
   "execution_count": 23,
   "metadata": {},
   "outputs": [
    {
     "name": "stdout",
     "output_type": "stream",
     "text": [
      "1\n",
      "2\n",
      "3\n",
      "0 1\n",
      "1 2\n",
      "2 3\n",
      "(0, 1)\n",
      "(1, 2)\n",
      "(2, 3)\n"
     ]
    }
   ],
   "source": [
    "x = [1, 2, 3]\n",
    "\n",
    "# enhanced for loop\n",
    "for element in x:\n",
    "    print(element)\n",
    "    \n",
    "for index, element in enumerate(x):\n",
    "    print(index, element)\n",
    "\n",
    "for element in enumerate(x):\n",
    "    print(element)"
   ]
  },
  {
   "cell_type": "code",
   "execution_count": 27,
   "metadata": {},
   "outputs": [
    {
     "name": "stdout",
     "output_type": "stream",
     "text": [
      "(1, 2)\n",
      "[1, 2]\n"
     ]
    }
   ],
   "source": [
    "# list to tuple or vice-versa is a breeze\n",
    "x = tuple([1, 2])\n",
    "print(x)\n",
    "y = list((1, 2))\n",
    "print(y)"
   ]
  },
  {
   "cell_type": "markdown",
   "metadata": {},
   "source": [
    "### Dictionary "
   ]
  },
  {
   "cell_type": "code",
   "execution_count": 30,
   "metadata": {},
   "outputs": [
    {
     "data": {
      "text/plain": [
       "'CE0001'"
      ]
     },
     "execution_count": 30,
     "metadata": {},
     "output_type": "execute_result"
    }
   ],
   "source": [
    "# 0, 1, 2, 3, 4....\n",
    "\n",
    "roll_numbers = ['CE0001', 'CE0002', 'CE0003', 'CE0004']\n",
    "# roll_numbers[4] is it practical for a real-world use case?\n",
    "\n",
    "# dictionary is denoated using curly brackets\n",
    "roll_number_dict = {'prashant': 'CE0001', 'anant': 'CE0002'}\n",
    "# an named index in a dictionary is called a key\n",
    "roll_number_dict[\"anant\"]\n",
    "# every key in dictionary  needs to be unique"
   ]
  },
  {
   "cell_type": "code",
   "execution_count": 37,
   "metadata": {},
   "outputs": [
    {
     "name": "stdout",
     "output_type": "stream",
     "text": [
      "{'Anne': 12234, 'Bob': 3456, 'Cathy': 6789}\n",
      "{'Anne': 12234, 'Bob': 3456, 'Cathy': 6789}\n"
     ]
    }
   ],
   "source": [
    "phonebook = {\n",
    "    'Anne': 12234,\n",
    "    'Bob':3456,\n",
    "    'Cathy':6789\n",
    "}\n",
    "print(phonebook)\n",
    "\n",
    "phonebook_1 = dict([['Anne', 12234], ['Bob', 3456], ['Cathy', 6789]])\n",
    "print(phonebook_1)"
   ]
  },
  {
   "cell_type": "code",
   "execution_count": 41,
   "metadata": {},
   "outputs": [
    {
     "name": "stdout",
     "output_type": "stream",
     "text": [
      "<class 'list'>\n",
      "<class 'tuple'>\n",
      "<class 'dict'>\n",
      "[1, 2, 3]\n"
     ]
    }
   ],
   "source": [
    "print(type([1, 2, 3]))\n",
    "print(type((1, 2, 3)))\n",
    "print(type(phonebook_1))\n",
    "\n",
    "s = [1, 2, 3,]\n",
    "print(s)"
   ]
  },
  {
   "cell_type": "code",
   "execution_count": 45,
   "metadata": {},
   "outputs": [
    {
     "name": "stdout",
     "output_type": "stream",
     "text": [
      "{'name': 'Shubham', 'age': 20, 'address': {'city': 'Delhi', 'zip': 110001, 'house-no': 29}, 'friends': [{'name': 'Anant', 'age': 21, 'address': {'city': 'Noida', 'zip': 201301, 'house-no': 28}, 'friends': []}, {'name': 'Shivam', 'age': 20, 'address': {'city': 'Hyderabad', 'zip': 110002, 'house-no': 39}, 'friends': [{'name': 'Anant', 'age': 21, 'address': {'city': 'Noida', 'zip': 201301, 'house-no': 28}, 'friends': []}]}]}\n"
     ]
    }
   ],
   "source": [
    "# Complex dictionary struture\n",
    "\n",
    "person2 = {\n",
    "    'name': \"Anant\",\n",
    "    'age' : 21,\n",
    "    'address': {'city':'Noida', 'zip':201301, 'house-no': 28},\n",
    "    'friends' : []\n",
    "}\n",
    "\n",
    "person3 = {\n",
    "    'name': \"Shivam\",\n",
    "    'age' : 20,\n",
    "    'address': {'city':'Hyderabad', 'zip':110002, 'house-no': 39},\n",
    "    'friends' : [person2]\n",
    "}\n",
    "\n",
    "person1 = {\n",
    "    'name': \"Shubham\",\n",
    "    'age' : 20,\n",
    "    'address': {'city':'Delhi', 'zip':110001, 'house-no': 29},\n",
    "    'friends' : [person2, person3]\n",
    "}\n",
    "\n",
    "print(person1)"
   ]
  },
  {
   "cell_type": "code",
   "execution_count": 55,
   "metadata": {},
   "outputs": [
    {
     "name": "stdout",
     "output_type": "stream",
     "text": [
      "dict_keys(['name', 'age', 'address', 'friends'])\n",
      "None\n"
     ]
    }
   ],
   "source": [
    "#print(person1.keys())\n",
    "# print(person1.values())\n",
    "# print(person1.get(\"name\"))\n",
    "# print(person1[\"name\"])\n",
    "\n",
    "print(person1.get(\"roll-number\")) # safer way to access value using key\n",
    "# print(person1[\"roll-number\"])"
   ]
  },
  {
   "cell_type": "code",
   "execution_count": 66,
   "metadata": {},
   "outputs": [
    {
     "name": "stdout",
     "output_type": "stream",
     "text": [
      "name Shubham\n",
      "age 20\n",
      "address {'city': 'Delhi', 'zip': 110001, 'house-no': 29}\n",
      "friends [{'name': 'Anant', 'age': 21, 'address': {'city': 'Noida', 'zip': 201301, 'house-no': 28}, 'friends': []}, {'name': 'Shivam', 'age': 20, 'address': {'city': 'Hyderabad', 'zip': 110002, 'house-no': 39}, 'friends': [{'name': 'Anant', 'age': 21, 'address': {'city': 'Noida', 'zip': 201301, 'house-no': 28}, 'friends': []}]}]\n"
     ]
    }
   ],
   "source": [
    "# for key in  person1.keys():\n",
    "#     print(key)\n",
    "\n",
    "# for key in  person1.keys():\n",
    "#     print(key, \":\", person1.get(key))\n",
    "    \n",
    "# for value in person1.values():\n",
    "#     print(value)\n",
    "\n",
    "for key, value in person1.items():\n",
    "    print(key, value)"
   ]
  },
  {
   "cell_type": "code",
   "execution_count": 68,
   "metadata": {},
   "outputs": [
    {
     "data": {
      "text/plain": [
       "'Delhi'"
      ]
     },
     "execution_count": 68,
     "metadata": {},
     "output_type": "execute_result"
    }
   ],
   "source": [
    "person1.get('address').get('city')"
   ]
  },
  {
   "cell_type": "code",
   "execution_count": 70,
   "metadata": {},
   "outputs": [
    {
     "data": {
      "text/plain": [
       "'Noida'"
      ]
     },
     "execution_count": 70,
     "metadata": {},
     "output_type": "execute_result"
    }
   ],
   "source": [
    "person1.get('friends')[0].get(\"address\").get(\"city\")"
   ]
  },
  {
   "cell_type": "code",
   "execution_count": 73,
   "metadata": {},
   "outputs": [
    {
     "name": "stdout",
     "output_type": "stream",
     "text": [
      "Noida\n"
     ]
    }
   ],
   "source": [
    "for friend in person1.get('friends'):\n",
    "    if friend.get(\"name\") == \"Anant\":\n",
    "        print(friend.get(\"address\").get(\"city\"))"
   ]
  },
  {
   "cell_type": "code",
   "execution_count": 87,
   "metadata": {},
   "outputs": [
    {
     "name": "stdout",
     "output_type": "stream",
     "text": [
      "125\n"
     ]
    }
   ],
   "source": [
    "# List Comprehension\n",
    "natural_number = list(range(0, 11))\n",
    "\n",
    "# square_natual_number = []\n",
    "# for element in natural_number:\n",
    "#     square_natual_number.append(element*element)\n",
    "# print(square_natual_number)\n",
    "\n",
    "# Dictionary Comprehension\n",
    "square_natual_number = dict([(element, element**3) for element in natural_number])\n",
    "#print(square_natual_number)\n",
    "print(square_natual_number[5])"
   ]
  },
  {
   "cell_type": "markdown",
   "metadata": {},
   "source": [
    "### Sets"
   ]
  },
  {
   "cell_type": "code",
   "execution_count": 90,
   "metadata": {},
   "outputs": [
    {
     "name": "stdout",
     "output_type": "stream",
     "text": [
      "4\n"
     ]
    }
   ],
   "source": [
    "# [], (), {}\n",
    "# Sets are also denoted using {}\n",
    "x = {1, 2, 3, 4, 5} # set\n",
    "x = {1:1, 2:4, 3:9} # dictionary\n",
    "x = [1, 2, 1, 3, 4, 4, 2]\n",
    "print(len(set(x)))"
   ]
  },
  {
   "cell_type": "code",
   "execution_count": 92,
   "metadata": {},
   "outputs": [
    {
     "name": "stdout",
     "output_type": "stream",
     "text": [
      "{1, 2, 3, 4} {2, 4, 5, 6}\n"
     ]
    }
   ],
   "source": [
    "s1 = set([1, 2, 3, 4, 3])\n",
    "s2 = set([2, 4, 6, 5])\n",
    "print(s1, s2)"
   ]
  },
  {
   "cell_type": "code",
   "execution_count": 96,
   "metadata": {},
   "outputs": [
    {
     "data": {
      "text/plain": [
       "{5, 6}"
      ]
     },
     "execution_count": 96,
     "metadata": {},
     "output_type": "execute_result"
    }
   ],
   "source": [
    "s1.union(s2) # OR\n",
    "s1.intersection(s2) # AND\n",
    "s1.difference(s2) # s1 - s2\n",
    "s2.difference(s1) # s2 - s1\n",
    "s1.symmetric_difference(s1, s2) # XOR - exclusilvely or"
   ]
  },
  {
   "cell_type": "code",
   "execution_count": null,
   "metadata": {},
   "outputs": [],
   "source": []
  }
 ],
 "metadata": {
  "kernelspec": {
   "display_name": "Python 3",
   "language": "python",
   "name": "python3"
  },
  "language_info": {
   "codemirror_mode": {
    "name": "ipython",
    "version": 3
   },
   "file_extension": ".py",
   "mimetype": "text/x-python",
   "name": "python",
   "nbconvert_exporter": "python",
   "pygments_lexer": "ipython3",
   "version": "3.7.2"
  }
 },
 "nbformat": 4,
 "nbformat_minor": 2
}
