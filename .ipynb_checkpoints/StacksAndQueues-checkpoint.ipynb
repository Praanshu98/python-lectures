{
 "cells": [
  {
   "cell_type": "code",
   "execution_count": 1,
   "metadata": {},
   "outputs": [],
   "source": [
    "# Stack is a LIFO structure\n",
    "\n",
    "class Stack:\n",
    "    def __init__(self):\n",
    "        self.data = []\n",
    "    \n",
    "    def push(self, value):\n",
    "        self.data.append(value)\n",
    "    \n",
    "    def pop(self):\n",
    "        return self.data.pop(-1)\n",
    "    \n",
    "    def top(self):\n",
    "        return self.data[-1]\n",
    "    \n",
    "    def size(self):\n",
    "        return len(self.data)\n",
    "    \n",
    "    def is_empty(self):\n",
    "        return len(self.data) == 0\n",
    "    \n",
    "    def __str__(self):\n",
    "        return str(self.data)"
   ]
  },
  {
   "cell_type": "code",
   "execution_count": 12,
   "metadata": {},
   "outputs": [
    {
     "name": "stdout",
     "output_type": "stream",
     "text": [
      "True\n",
      "0\n",
      "False\n",
      "1\n",
      "[1]\n",
      "[1, 2, 3]\n",
      "3\n",
      "[1, 2]\n",
      "2\n"
     ]
    }
   ],
   "source": [
    "s1 = Stack()\n",
    "print(s1.is_empty())\n",
    "print(s1.size())\n",
    "s1.push(1)\n",
    "print(s1.is_empty())\n",
    "print(s1.size())\n",
    "print(s1)\n",
    "s1.push(2)\n",
    "s1.push(3)\n",
    "print(s1)\n",
    "print(s1.pop())\n",
    "print(s1)\n",
    "print(s1.top())"
   ]
  },
  {
   "cell_type": "code",
   "execution_count": 13,
   "metadata": {},
   "outputs": [],
   "source": [
    "# Queues\n",
    "\n",
    "class Queue:\n",
    "        def __init__(self):\n",
    "            self.data = []\n",
    "        \n",
    "        # this is similar to push in stacks, adding element to the queue\n",
    "        def enqueue(self, value):\n",
    "            self.data.append(value)\n",
    "        \n",
    "        def dequeue(self):\n",
    "            return self.data.pop(0)\n",
    "        \n",
    "        def is_empty(self):\n",
    "            return len(self.data) == 0\n",
    "        \n",
    "        def size(self):\n",
    "            return len(self.data)\n",
    "        \n",
    "        def front(self):\n",
    "            return self.data[0]\n",
    "        \n",
    "        def end(self):\n",
    "            return self.data[-1]\n",
    "        \n",
    "        def __str__(self):\n",
    "            return str(self.data)"
   ]
  },
  {
   "cell_type": "code",
   "execution_count": 16,
   "metadata": {},
   "outputs": [
    {
     "name": "stdout",
     "output_type": "stream",
     "text": [
      "[1, 2, 3, ]\n"
     ]
    },
    {
     "ename": "TypeError",
     "evalue": "'int' object is not callable",
     "output_type": "error",
     "traceback": [
      "\u001b[0;31m---------------------------------------------------------------------------\u001b[0m",
      "\u001b[0;31mTypeError\u001b[0m                                 Traceback (most recent call last)",
      "\u001b[0;32m<ipython-input-16-59adf713a4ee>\u001b[0m in \u001b[0;36m<module>\u001b[0;34m\u001b[0m\n\u001b[1;32m     75\u001b[0m \u001b[0mq1\u001b[0m\u001b[0;34m.\u001b[0m\u001b[0menqueue\u001b[0m\u001b[0;34m(\u001b[0m\u001b[0;36m3\u001b[0m\u001b[0;34m)\u001b[0m\u001b[0;34m\u001b[0m\u001b[0;34m\u001b[0m\u001b[0m\n\u001b[1;32m     76\u001b[0m \u001b[0mprint\u001b[0m\u001b[0;34m(\u001b[0m\u001b[0mq1\u001b[0m\u001b[0;34m)\u001b[0m\u001b[0;34m\u001b[0m\u001b[0;34m\u001b[0m\u001b[0m\n\u001b[0;32m---> 77\u001b[0;31m \u001b[0mprint\u001b[0m\u001b[0;34m(\u001b[0m\u001b[0mq1\u001b[0m\u001b[0;34m.\u001b[0m\u001b[0msize\u001b[0m\u001b[0;34m(\u001b[0m\u001b[0;34m)\u001b[0m\u001b[0;34m)\u001b[0m\u001b[0;34m\u001b[0m\u001b[0;34m\u001b[0m\u001b[0m\n\u001b[0m",
      "\u001b[0;31mTypeError\u001b[0m: 'int' object is not callable"
     ]
    }
   ],
   "source": [
    "# Linked List\n",
    "\n",
    "class Node:\n",
    "    \n",
    "    def __init__(self, value):\n",
    "        self.value = value\n",
    "        self.next = None\n",
    "\n",
    "class CustomQueue:\n",
    "    \n",
    "    def __init__(self):\n",
    "        self.start = None\n",
    "        self.end = None\n",
    "        self.size = 0\n",
    "    \n",
    "    def enqueue(self, value):\n",
    "        node = Node(value)\n",
    "        if self.start == None:\n",
    "            self.start = node\n",
    "            # self.end = node\n",
    "        else:\n",
    "            self.end.next = node\n",
    "            # self.end = node\n",
    "        self.end = node\n",
    "        self.size += 1\n",
    "    \n",
    "    def dequeue(self):\n",
    "        if self.start == None:\n",
    "            return None\n",
    "        elif self.start == self.end:\n",
    "            removed_value = self.start\n",
    "            self.start = None\n",
    "            self.end = None\n",
    "            self.size -= 1\n",
    "            return removed_value\n",
    "        else:\n",
    "            returned_value = self.start\n",
    "            self.start = self.start.next\n",
    "            returned_value.next = None\n",
    "            self.size -= 1\n",
    "            return returned_value\n",
    "    \n",
    "    def is_empty(self):\n",
    "        return self.size == 0\n",
    "    \n",
    "    def qsize(self):\n",
    "        return self.size\n",
    "    \n",
    "    def front(self):\n",
    "        if self.start == None:\n",
    "            return None\n",
    "        else:\n",
    "            return self.start.value\n",
    "    \n",
    "    def end(self):\n",
    "        if self.end == None:\n",
    "            return None\n",
    "        else:\n",
    "            return self.end.value\n",
    "    \n",
    "    def __str__(self):\n",
    "        result = \"[\"\n",
    "        i = self.start\n",
    "        while i is not None:\n",
    "            result += str(i.value) \n",
    "            result += \", \"\n",
    "            i = i.next\n",
    "        result += \"]\"\n",
    "        return result\n",
    "        \n",
    "\n",
    "q1 = CustomQueue()\n",
    "q1.enqueue(1)\n",
    "q1.enqueue(2)\n",
    "q1.enqueue(3)\n",
    "print(q1)\n",
    "print(q1.size())"
   ]
  },
  {
   "cell_type": "code",
   "execution_count": null,
   "metadata": {},
   "outputs": [],
   "source": []
  }
 ],
 "metadata": {
  "kernelspec": {
   "display_name": "Python 3",
   "language": "python",
   "name": "python3"
  },
  "language_info": {
   "codemirror_mode": {
    "name": "ipython",
    "version": 3
   },
   "file_extension": ".py",
   "mimetype": "text/x-python",
   "name": "python",
   "nbconvert_exporter": "python",
   "pygments_lexer": "ipython3",
   "version": "3.7.6"
  }
 },
 "nbformat": 4,
 "nbformat_minor": 4
}
