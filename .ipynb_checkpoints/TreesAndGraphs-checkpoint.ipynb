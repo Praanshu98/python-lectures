{
 "cells": [
  {
   "cell_type": "code",
   "execution_count": 1,
   "metadata": {},
   "outputs": [],
   "source": [
    "class Node:\n",
    "    def __init__(self, val):\n",
    "        self.value = val\n",
    "        self.left = None\n",
    "        self.right = None"
   ]
  },
  {
   "cell_type": "code",
   "execution_count": null,
   "metadata": {},
   "outputs": [],
   "source": [
    "class BST:\n",
    "    def __init__(self):\n",
    "        self.root = None\n",
    "    \n",
    "    def insert(self, val):\n",
    "        new_node = Node(val)\n",
    "        if self.root == None:\n",
    "            self.root = new_node\n",
    "        else:\n",
    "            _insert(self.root, new_node)\n",
    "    \n",
    "    def _insert(self, start_node, new_node):\n",
    "        # helper method\n",
    "        if start_node.value == new_node.value:\n",
    "            return None\n",
    "        elif start_node > new_node.value:\n",
    "            if start_node.left == None:\n",
    "                start_node.left = new_node\n",
    "            else:\n",
    "                _insert(start_node.left, new_node)\n",
    "        else:\n",
    "            if start_node.right == None:\n",
    "                start_node.right = new_node\n",
    "            else:\n",
    "                _insert(start_node.right, new_node)"
   ]
  }
 ],
 "metadata": {
  "kernelspec": {
   "display_name": "Python 3",
   "language": "python",
   "name": "python3"
  },
  "language_info": {
   "codemirror_mode": {
    "name": "ipython",
    "version": 3
   },
   "file_extension": ".py",
   "mimetype": "text/x-python",
   "name": "python",
   "nbconvert_exporter": "python",
   "pygments_lexer": "ipython3",
   "version": "3.7.6"
  }
 },
 "nbformat": 4,
 "nbformat_minor": 4
}
