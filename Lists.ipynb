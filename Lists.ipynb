{
 "cells": [
  {
   "cell_type": "code",
   "execution_count": 1,
   "metadata": {},
   "outputs": [
    {
     "name": "stdout",
     "output_type": "stream",
     "text": [
      "[100, 99, 56, 76, 45, 30]\n"
     ]
    }
   ],
   "source": [
    "marks = [100, 99, 56, 76, 45, 30]\n",
    "print(marks)"
   ]
  },
  {
   "cell_type": "code",
   "execution_count": 2,
   "metadata": {},
   "outputs": [
    {
     "name": "stdout",
     "output_type": "stream",
     "text": [
      "100\n"
     ]
    }
   ],
   "source": [
    "print(marks[0]) # indexing"
   ]
  },
  {
   "cell_type": "code",
   "execution_count": 3,
   "metadata": {},
   "outputs": [
    {
     "name": "stdout",
     "output_type": "stream",
     "text": [
      "99\n"
     ]
    }
   ],
   "source": [
    "print(marks[1]) "
   ]
  },
  {
   "cell_type": "code",
   "execution_count": 4,
   "metadata": {},
   "outputs": [
    {
     "name": "stdout",
     "output_type": "stream",
     "text": [
      "30\n"
     ]
    }
   ],
   "source": [
    "print(marks[-1]) # indexing"
   ]
  },
  {
   "cell_type": "code",
   "execution_count": 5,
   "metadata": {},
   "outputs": [
    {
     "name": "stdout",
     "output_type": "stream",
     "text": [
      "45\n"
     ]
    }
   ],
   "source": [
    "print(marks[-2])"
   ]
  },
  {
   "cell_type": "code",
   "execution_count": 6,
   "metadata": {},
   "outputs": [
    {
     "name": "stdout",
     "output_type": "stream",
     "text": [
      "[1, 2, 3, 4.5, 8, 9.2]\n"
     ]
    }
   ],
   "source": [
    "a = [1, 2, 3, 4.5, 8, 9.2]\n",
    "print(a)"
   ]
  },
  {
   "cell_type": "code",
   "execution_count": 7,
   "metadata": {},
   "outputs": [],
   "source": [
    "b = [\"a\", 1, \"anant\", 2.1, True]"
   ]
  },
  {
   "cell_type": "code",
   "execution_count": 8,
   "metadata": {},
   "outputs": [
    {
     "name": "stdout",
     "output_type": "stream",
     "text": [
      "['a', 1, 'anant', 2.1, True, [1, 2, 3, 4.5, 8, 9.2]]\n"
     ]
    }
   ],
   "source": [
    "c = [\"a\", 1, \"anant\", 2.1, True, a]\n",
    "print(c)"
   ]
  },
  {
   "cell_type": "markdown",
   "metadata": {},
   "source": [
    "### Value Assignment with index"
   ]
  },
  {
   "cell_type": "code",
   "execution_count": 9,
   "metadata": {},
   "outputs": [
    {
     "name": "stdout",
     "output_type": "stream",
     "text": [
      "[100, 101, 56, 76, 45, 30]\n"
     ]
    }
   ],
   "source": [
    "x = 1\n",
    "marks[1] = 101\n",
    "print(marks)"
   ]
  },
  {
   "cell_type": "markdown",
   "metadata": {},
   "source": [
    "### Splicing"
   ]
  },
  {
   "cell_type": "code",
   "execution_count": 14,
   "metadata": {},
   "outputs": [
    {
     "name": "stdout",
     "output_type": "stream",
     "text": [
      "[101, 56, 76, 45]\n",
      "[100, 101, 56, 76, 45]\n",
      "[76, 45, 30]\n",
      "[101, 76, 30]\n"
     ]
    }
   ],
   "source": [
    "print(marks[1:5])\n",
    "print(marks[:5])\n",
    "print(marks[3:])\n",
    "print(marks[1::2])"
   ]
  },
  {
   "cell_type": "markdown",
   "metadata": {},
   "source": [
    "### Appending"
   ]
  },
  {
   "cell_type": "code",
   "execution_count": 16,
   "metadata": {},
   "outputs": [
    {
     "name": "stdout",
     "output_type": "stream",
     "text": [
      "[100, 101, 56, 76, 45, 30]\n",
      "[100, 101, 56, 76, 45, 30, 33]\n"
     ]
    }
   ],
   "source": [
    "print(marks)\n",
    "marks.append(33) # inserts the element in the end\n",
    "print(marks)"
   ]
  },
  {
   "cell_type": "code",
   "execution_count": 18,
   "metadata": {},
   "outputs": [
    {
     "name": "stdout",
     "output_type": "stream",
     "text": [
      "[100, 101, 34, 56, 76, 45, 30, 33]\n"
     ]
    }
   ],
   "source": [
    "marks.insert(2, 34)\n",
    "print(marks)"
   ]
  },
  {
   "cell_type": "markdown",
   "metadata": {},
   "source": [
    "### Extending"
   ]
  },
  {
   "cell_type": "code",
   "execution_count": 19,
   "metadata": {},
   "outputs": [
    {
     "name": "stdout",
     "output_type": "stream",
     "text": [
      "[100, 101, 34, 56, 76, 45, 30, 33, 1, 2, 3]\n"
     ]
    }
   ],
   "source": [
    "marks.extend([1, 2, 3])\n",
    "print(marks)"
   ]
  },
  {
   "cell_type": "code",
   "execution_count": 23,
   "metadata": {},
   "outputs": [],
   "source": [
    "[100, 101, 34, 56, 76, 45, 30, 33, [1, 2, 3]]\n",
    "marks2 = [1, 2, 3]\n",
    "# marks.append([1, 2, 3])\n",
    "# print(marks)"
   ]
  },
  {
   "cell_type": "code",
   "execution_count": 26,
   "metadata": {},
   "outputs": [
    {
     "name": "stdout",
     "output_type": "stream",
     "text": [
      "[100, 101, 34, 56, 76, 45, 30, 33, 1, 2, 3, [1, 2, 3]]\n",
      "[100, 101, 34, 56, 76, 45, 30, 33, 1, 2, 3]\n"
     ]
    }
   ],
   "source": [
    "print(marks)\n",
    "marks.remove([1, 2, 3])\n",
    "print(marks)"
   ]
  },
  {
   "cell_type": "code",
   "execution_count": 27,
   "metadata": {},
   "outputs": [
    {
     "name": "stdout",
     "output_type": "stream",
     "text": [
      "[100, 101, 34, 56, 76, 45, 30, 33, 1, 2, 3, 101]\n"
     ]
    }
   ],
   "source": [
    "marks.append(101)\n",
    "print(marks)"
   ]
  },
  {
   "cell_type": "code",
   "execution_count": 28,
   "metadata": {},
   "outputs": [
    {
     "name": "stdout",
     "output_type": "stream",
     "text": [
      "[100, 34, 56, 76, 45, 30, 33, 1, 2, 3, 101]\n"
     ]
    }
   ],
   "source": [
    "marks.remove(101)\n",
    "print(marks)"
   ]
  },
  {
   "cell_type": "code",
   "execution_count": 32,
   "metadata": {},
   "outputs": [
    {
     "name": "stdout",
     "output_type": "stream",
     "text": [
      "[100, 34, 45, 30, 33, 1, 2, 3, 101]\n"
     ]
    }
   ],
   "source": [
    "marks.pop(2)\n",
    "print(marks)\n",
    "marks.append(101)\n",
    "marks.append(100)"
   ]
  },
  {
   "cell_type": "code",
   "execution_count": 33,
   "metadata": {},
   "outputs": [
    {
     "name": "stdout",
     "output_type": "stream",
     "text": [
      "[100, 34, 45, 30, 33, 1, 2, 3, 101, 101, 100]\n"
     ]
    }
   ],
   "source": [
    "print(marks)"
   ]
  },
  {
   "cell_type": "code",
   "execution_count": 34,
   "metadata": {},
   "outputs": [
    {
     "name": "stdout",
     "output_type": "stream",
     "text": [
      "2\n"
     ]
    }
   ],
   "source": [
    "print(marks.count(100))"
   ]
  },
  {
   "cell_type": "code",
   "execution_count": 35,
   "metadata": {},
   "outputs": [
    {
     "name": "stdout",
     "output_type": "stream",
     "text": [
      "1\n"
     ]
    }
   ],
   "source": [
    "print(marks.count(33))"
   ]
  },
  {
   "cell_type": "code",
   "execution_count": 36,
   "metadata": {},
   "outputs": [
    {
     "name": "stdout",
     "output_type": "stream",
     "text": [
      "550\n"
     ]
    }
   ],
   "source": [
    "print(sum(marks))"
   ]
  },
  {
   "cell_type": "code",
   "execution_count": 37,
   "metadata": {},
   "outputs": [
    {
     "name": "stdout",
     "output_type": "stream",
     "text": [
      "11\n"
     ]
    }
   ],
   "source": [
    "print(len(marks))"
   ]
  },
  {
   "cell_type": "code",
   "execution_count": 38,
   "metadata": {},
   "outputs": [
    {
     "name": "stdout",
     "output_type": "stream",
     "text": [
      "101 1\n"
     ]
    }
   ],
   "source": [
    "print(max(marks), min(marks))"
   ]
  },
  {
   "cell_type": "code",
   "execution_count": 40,
   "metadata": {},
   "outputs": [
    {
     "name": "stdout",
     "output_type": "stream",
     "text": [
      "[1, 2, 3, 4]\n"
     ]
    }
   ],
   "source": [
    "y = [1, 2] + [3, 4] # list concatenation\n",
    "print(y)"
   ]
  },
  {
   "cell_type": "code",
   "execution_count": 41,
   "metadata": {},
   "outputs": [
    {
     "name": "stdout",
     "output_type": "stream",
     "text": [
      "1\n",
      "2\n",
      "3\n",
      "4\n"
     ]
    }
   ],
   "source": [
    "for i in y:\n",
    "    print(i)"
   ]
  },
  {
   "cell_type": "code",
   "execution_count": 42,
   "metadata": {},
   "outputs": [
    {
     "name": "stdout",
     "output_type": "stream",
     "text": [
      "0\n",
      "1\n",
      "2\n",
      "3\n"
     ]
    }
   ],
   "source": [
    "for i in range(0, 4):\n",
    "    print(i)"
   ]
  },
  {
   "cell_type": "code",
   "execution_count": 50,
   "metadata": {},
   "outputs": [
    {
     "name": "stdout",
     "output_type": "stream",
     "text": [
      "[100, 34, 45, 30, 33, 1, 2, 3, 101, 101, 100]\n",
      "0 100\n",
      "1 34\n",
      "2 45\n",
      "3 30\n",
      "--------------------\n",
      "100\n",
      "34\n",
      "45\n",
      "30\n",
      "33\n",
      "1\n",
      "2\n",
      "3\n",
      "101\n",
      "101\n",
      "100\n"
     ]
    }
   ],
   "source": [
    "# 0 1\n",
    "# 1 2\n",
    "# 2 3\n",
    "# 3 4\n",
    "print(marks)\n",
    "\n",
    "for i in range(0, 4):\n",
    "    print(i, marks[i])\n",
    "print(\"-\"*20)\n",
    "\n",
    "\n",
    "for mark in marks:\n",
    "    print(mark)"
   ]
  },
  {
   "cell_type": "code",
   "execution_count": 51,
   "metadata": {},
   "outputs": [
    {
     "name": "stdout",
     "output_type": "stream",
     "text": [
      "0 100\n",
      "1 34\n",
      "2 45\n",
      "3 30\n",
      "4 33\n",
      "5 1\n",
      "6 2\n",
      "7 3\n",
      "8 101\n",
      "9 101\n",
      "10 100\n"
     ]
    }
   ],
   "source": [
    "for i, mark in enumerate(marks):\n",
    "    print(i, mark)"
   ]
  },
  {
   "cell_type": "code",
   "execution_count": 54,
   "metadata": {},
   "outputs": [
    {
     "name": "stdout",
     "output_type": "stream",
     "text": [
      "1\n",
      "25\n",
      "49\n",
      "81\n",
      "81\n",
      "[]\n",
      "[1, 25, 49, 81, 81]\n"
     ]
    }
   ],
   "source": [
    "nums = [1, 5, 7, 9, 9]\n",
    "sq = []\n",
    "for i in nums:\n",
    "    print(i**2)\n",
    "print(sq)\n",
    "\n",
    "for i in nums:\n",
    "    sq.append(i**2)\n",
    "print(sq)"
   ]
  },
  {
   "cell_type": "code",
   "execution_count": null,
   "metadata": {},
   "outputs": [],
   "source": []
  }
 ],
 "metadata": {
  "kernelspec": {
   "display_name": "Python 3",
   "language": "python",
   "name": "python3"
  },
  "language_info": {
   "codemirror_mode": {
    "name": "ipython",
    "version": 3
   },
   "file_extension": ".py",
   "mimetype": "text/x-python",
   "name": "python",
   "nbconvert_exporter": "python",
   "pygments_lexer": "ipython3",
   "version": "3.7.2"
  }
 },
 "nbformat": 4,
 "nbformat_minor": 2
}
