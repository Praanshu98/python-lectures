{
 "cells": [
  {
   "cell_type": "code",
   "execution_count": 5,
   "metadata": {},
   "outputs": [
    {
     "name": "stdout",
     "output_type": "stream",
     "text": [
      "41\n",
      "<class 'int'>\n",
      "4440642960\n"
     ]
    }
   ],
   "source": [
    "x = 41\n",
    "print(x)\n",
    "print(type(x))\n",
    "print(id(x))"
   ]
  },
  {
   "cell_type": "code",
   "execution_count": 7,
   "metadata": {},
   "outputs": [
    {
     "name": "stdout",
     "output_type": "stream",
     "text": [
      "[10, 20, 30]\n",
      "[10, 20, 30]\n"
     ]
    }
   ],
   "source": [
    "a = [10, 20, 30] # mutable object\n",
    "print(a)\n",
    "b = a\n",
    "print(b)"
   ]
  },
  {
   "cell_type": "code",
   "execution_count": 9,
   "metadata": {},
   "outputs": [
    {
     "name": "stdout",
     "output_type": "stream",
     "text": [
      "[10, 12, 30]\n",
      "[10, 12, 30]\n"
     ]
    }
   ],
   "source": [
    "a[1] = 12\n",
    "print(a)\n",
    "print(b)"
   ]
  },
  {
   "cell_type": "code",
   "execution_count": 10,
   "metadata": {},
   "outputs": [
    {
     "name": "stdout",
     "output_type": "stream",
     "text": [
      "4483821256\n",
      "4483821256\n"
     ]
    }
   ],
   "source": [
    "print(id(a))\n",
    "print(id(b)) # b is referencing to the same object as a"
   ]
  },
  {
   "cell_type": "code",
   "execution_count": 12,
   "metadata": {},
   "outputs": [
    {
     "name": "stdout",
     "output_type": "stream",
     "text": [
      "4440641968 4440641968\n",
      "4440642608 4440641968\n"
     ]
    }
   ],
   "source": [
    "a = 10\n",
    "b = a\n",
    "print(id(a), id(b))\n",
    "a = 30\n",
    "print(id(a), id(b)) # b still points to the old object\n",
    "# a starts pointing to a new object"
   ]
  },
  {
   "cell_type": "code",
   "execution_count": 13,
   "metadata": {},
   "outputs": [
    {
     "name": "stdout",
     "output_type": "stream",
     "text": [
      "4483863688 4483863880\n"
     ]
    }
   ],
   "source": [
    "a = [10, 20, 30]\n",
    "b = [10, 20, 30]\n",
    "print(id(a), id(b))"
   ]
  },
  {
   "cell_type": "code",
   "execution_count": 14,
   "metadata": {},
   "outputs": [
    {
     "name": "stdout",
     "output_type": "stream",
     "text": [
      "4440641968 4440641968\n"
     ]
    }
   ],
   "source": [
    "a = 10\n",
    "b = 10\n",
    "print(id(a), id(b))"
   ]
  },
  {
   "cell_type": "code",
   "execution_count": 15,
   "metadata": {},
   "outputs": [
    {
     "name": "stdout",
     "output_type": "stream",
     "text": [
      "4484380944 4484380912\n"
     ]
    }
   ],
   "source": [
    "a = 1346327372\n",
    "b = 1346327372\n",
    "print(id(a), id(b))"
   ]
  },
  {
   "cell_type": "code",
   "execution_count": 19,
   "metadata": {},
   "outputs": [
    {
     "name": "stdout",
     "output_type": "stream",
     "text": [
      "4475029896 4484629000\n",
      "4475029896 4484629000 4475029896\n",
      "4475029896 4484629000 4475029896 4485311048\n",
      "4475029896 4484629000 4475029896 4485311048 4485273352\n"
     ]
    }
   ],
   "source": [
    "a = [10, 20, 30]\n",
    "b = [10, 20, 30]\n",
    "print(id(a), id(b))\n",
    "c = a\n",
    "print(id(a), id(b), id(c))\n",
    "d = a[:]\n",
    "print(id(a), id(b), id(c), id(d))\n",
    "e = list(a) # use this to create sep copy when you don't know the data\n",
    "print(id(a), id(b), id(c), id(d), id(e))"
   ]
  },
  {
   "cell_type": "code",
   "execution_count": 22,
   "metadata": {},
   "outputs": [
    {
     "name": "stdout",
     "output_type": "stream",
     "text": [
      "True\n",
      "False\n",
      "True\n"
     ]
    }
   ],
   "source": [
    "print(a == b)\n",
    "print(a is b)\n",
    "print(a is c)"
   ]
  },
  {
   "cell_type": "markdown",
   "metadata": {},
   "source": [
    "### Swapping Memory"
   ]
  },
  {
   "cell_type": "code",
   "execution_count": 24,
   "metadata": {},
   "outputs": [
    {
     "name": "stdout",
     "output_type": "stream",
     "text": [
      "10 5 4440641968 4440641808\n",
      "5 10 4440641808 4440641968\n"
     ]
    }
   ],
   "source": [
    "x, y = 10, 5\n",
    "print(x, y, id(x), id(y))\n",
    "temp = x\n",
    "x = y\n",
    "y = temp\n",
    "print(x, y, id(x), id(y)) # This is general method for swapping in any programming language"
   ]
  },
  {
   "cell_type": "code",
   "execution_count": 26,
   "metadata": {},
   "outputs": [
    {
     "name": "stdout",
     "output_type": "stream",
     "text": [
      "10 5 4440641968 4440641808\n",
      "5 10 4440641808 4440641968\n"
     ]
    }
   ],
   "source": [
    "x, y = 10, 5\n",
    "print(x, y, id(x), id(y))\n",
    "x, y = y, x\n",
    "print(x, y, id(x), id(y))"
   ]
  },
  {
   "cell_type": "code",
   "execution_count": 27,
   "metadata": {},
   "outputs": [
    {
     "name": "stdout",
     "output_type": "stream",
     "text": [
      "10 5 4440641968 4440641808\n",
      "5 10 4440641808 4440641968\n"
     ]
    }
   ],
   "source": [
    "def swap(x, y):\n",
    "    return y, x\n",
    "\n",
    "x, y = 10, 5\n",
    "print(x, y, id(x), id(y))\n",
    "x, y = swap(x, y)\n",
    "print(x, y, id(x), id(y))\n",
    "\n",
    "# functions also take references to the objects\n",
    "\n",
    "# Homework is to check how to pass arguments as well but not references"
   ]
  },
  {
   "cell_type": "code",
   "execution_count": 29,
   "metadata": {},
   "outputs": [
    {
     "name": "stdout",
     "output_type": "stream",
     "text": [
      "[10, 20, 30]\n",
      "[10, 30, 20]\n"
     ]
    }
   ],
   "source": [
    "arr = [10, 20, 30] # if I have to swap elements at index 1 and 2\n",
    "print(arr)\n",
    "arr[1], arr[2] = swap(arr[1], arr[2])\n",
    "print(arr)"
   ]
  },
  {
   "cell_type": "markdown",
   "metadata": {},
   "source": [
    "### Linear Search"
   ]
  },
  {
   "cell_type": "code",
   "execution_count": 30,
   "metadata": {},
   "outputs": [
    {
     "name": "stdout",
     "output_type": "stream",
     "text": [
      "4\n"
     ]
    }
   ],
   "source": [
    "marks = [10, 20, 40, 90, 50, 70, 45, 67, 34, 56, 21, 11]\n",
    "\n",
    "def linear_search(arr, target):\n",
    "    for i in range(0, len(arr)):\n",
    "        if target == arr[i]:\n",
    "            return i\n",
    "    return None\n",
    "\n",
    "index = linear_search(marks, 50)\n",
    "print(index)"
   ]
  },
  {
   "cell_type": "markdown",
   "metadata": {},
   "source": [
    "### List Comprehension"
   ]
  },
  {
   "cell_type": "code",
   "execution_count": 37,
   "metadata": {
    "scrolled": true
   },
   "outputs": [
    {
     "name": "stdout",
     "output_type": "stream",
     "text": [
      "[100, 144, 169, 225, 400]\n"
     ]
    }
   ],
   "source": [
    "arr = [10, 12, 13, 15, 20] \n",
    "\n",
    "sq = []\n",
    "# append the squares of all the numbers\n",
    "for number in arr:\n",
    "    sq.append(number ** 2)\n",
    "    \n",
    "print(sq)"
   ]
  },
  {
   "cell_type": "code",
   "execution_count": 41,
   "metadata": {},
   "outputs": [
    {
     "name": "stdout",
     "output_type": "stream",
     "text": [
      "[100, 144, 169, 225, 400]\n"
     ]
    }
   ],
   "source": [
    "sq = [number**2 for number in arr]\n",
    "print(sq)"
   ]
  },
  {
   "cell_type": "markdown",
   "metadata": {},
   "source": [
    "### 2D lists"
   ]
  },
  {
   "cell_type": "code",
   "execution_count": 52,
   "metadata": {},
   "outputs": [
    {
     "name": "stdout",
     "output_type": "stream",
     "text": [
      "[7, 8, 9]\n",
      "[7, 8, 9]\n",
      "[1, 2, 3]\n",
      "[1, 2, 3]\n"
     ]
    }
   ],
   "source": [
    "###### lists within a list\n",
    "# 1 2 3\n",
    "# 4 5 6\n",
    "# 7 8 9\n",
    "\n",
    "arr = [[1, 2, 3], [4, 5, 6], [7, 8, 9]]\n",
    "\n",
    "#arr = [[[1, 2, 3], [4, 5, 6], [7, 8, 9]], [[1, 2, 3], [4, 5, 6], [7, 8, 9]], [[1, 2, 3], [4, 5, 6], [7, 8, 9]]]\n",
    "\n",
    "# print(arr[0])\n",
    "# print(arr[1])\n",
    "# print(arr[2])\n",
    "# print(arr[0][1])\n",
    "# print(arr[2][2])\n",
    "# print(arr[1][2])\n",
    "# print(arr[-1][0])\n",
    "\n",
    "print(arr[-1])\n",
    "print(arr[-1][:])\n",
    "\n",
    "x = [1, 2, 3]\n",
    "print(x)\n",
    "print(x[:])"
   ]
  },
  {
   "cell_type": "code",
   "execution_count": null,
   "metadata": {},
   "outputs": [],
   "source": []
  }
 ],
 "metadata": {
  "kernelspec": {
   "display_name": "Python 3",
   "language": "python",
   "name": "python3"
  },
  "language_info": {
   "codemirror_mode": {
    "name": "ipython",
    "version": 3
   },
   "file_extension": ".py",
   "mimetype": "text/x-python",
   "name": "python",
   "nbconvert_exporter": "python",
   "pygments_lexer": "ipython3",
   "version": "3.7.2"
  }
 },
 "nbformat": 4,
 "nbformat_minor": 2
}
